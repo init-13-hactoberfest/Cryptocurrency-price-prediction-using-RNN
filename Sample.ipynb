{
 "cells": [
  {
   "cell_type": "code",
   "execution_count": 1,
   "metadata": {
    "scrolled": false
   },
   "outputs": [
    {
     "ename": "ImportError",
     "evalue": "Traceback (most recent call last):\n  File \"/home/nitin/.local/lib/python3.7/site-packages/tensorflow/python/__init__.py\", line 61, in <module>\n    from tensorflow.python import pywrap_tensorflow\n  File \"/home/nitin/.local/lib/python3.7/site-packages/tensorflow/python/pywrap_tensorflow.py\", line 28, in <module>\n    _pywrap_tensorflow = swig_import_helper()\n  File \"/home/nitin/.local/lib/python3.7/site-packages/tensorflow/python/pywrap_tensorflow.py\", line 24, in swig_import_helper\n    _mod = imp.load_module('_pywrap_tensorflow', fp, pathname, description)\n  File \"/usr/lib/python3.7/imp.py\", line 242, in load_module\n    return load_dynamic(name, filename, file)\n  File \"/usr/lib/python3.7/imp.py\", line 342, in load_dynamic\n    return _load(spec)\nImportError: /home/nitin/.local/lib/python3.7/site-packages/tensorflow/python/_pywrap_tensorflow.so: invalid ELF header\n\n\nFailed to load the native TensorFlow runtime.\n\nSee https://github.com/tensorflow/tensorflow/blob/master/tensorflow/g3doc/get_started/os_setup.md#import_error\n\nfor some common reasons and solutions.  Include the entire stack trace\nabove this error message when asking for help.",
     "output_type": "error",
     "traceback": [
      "\u001b[0;31m---------------------------------------------------------------------------\u001b[0m",
      "\u001b[0;31mImportError\u001b[0m                               Traceback (most recent call last)",
      "\u001b[0;32m~/.local/lib/python3.7/site-packages/tensorflow/python/__init__.py\u001b[0m in \u001b[0;36m<module>\u001b[0;34m\u001b[0m\n\u001b[1;32m     60\u001b[0m     \u001b[0msys\u001b[0m\u001b[0;34m.\u001b[0m\u001b[0msetdlopenflags\u001b[0m\u001b[0;34m(\u001b[0m\u001b[0m_default_dlopen_flags\u001b[0m \u001b[0;34m|\u001b[0m \u001b[0mctypes\u001b[0m\u001b[0;34m.\u001b[0m\u001b[0mRTLD_GLOBAL\u001b[0m\u001b[0;34m)\u001b[0m\u001b[0;34m\u001b[0m\u001b[0;34m\u001b[0m\u001b[0m\n\u001b[0;32m---> 61\u001b[0;31m     \u001b[0;32mfrom\u001b[0m \u001b[0mtensorflow\u001b[0m\u001b[0;34m.\u001b[0m\u001b[0mpython\u001b[0m \u001b[0;32mimport\u001b[0m \u001b[0mpywrap_tensorflow\u001b[0m\u001b[0;34m\u001b[0m\u001b[0;34m\u001b[0m\u001b[0m\n\u001b[0m\u001b[1;32m     62\u001b[0m     \u001b[0msys\u001b[0m\u001b[0;34m.\u001b[0m\u001b[0msetdlopenflags\u001b[0m\u001b[0;34m(\u001b[0m\u001b[0m_default_dlopen_flags\u001b[0m\u001b[0;34m)\u001b[0m\u001b[0;34m\u001b[0m\u001b[0;34m\u001b[0m\u001b[0m\n",
      "\u001b[0;32m~/.local/lib/python3.7/site-packages/tensorflow/python/pywrap_tensorflow.py\u001b[0m in \u001b[0;36m<module>\u001b[0;34m\u001b[0m\n\u001b[1;32m     27\u001b[0m             \u001b[0;32mreturn\u001b[0m \u001b[0m_mod\u001b[0m\u001b[0;34m\u001b[0m\u001b[0;34m\u001b[0m\u001b[0m\n\u001b[0;32m---> 28\u001b[0;31m     \u001b[0m_pywrap_tensorflow\u001b[0m \u001b[0;34m=\u001b[0m \u001b[0mswig_import_helper\u001b[0m\u001b[0;34m(\u001b[0m\u001b[0;34m)\u001b[0m\u001b[0;34m\u001b[0m\u001b[0;34m\u001b[0m\u001b[0m\n\u001b[0m\u001b[1;32m     29\u001b[0m     \u001b[0;32mdel\u001b[0m \u001b[0mswig_import_helper\u001b[0m\u001b[0;34m\u001b[0m\u001b[0;34m\u001b[0m\u001b[0m\n",
      "\u001b[0;32m~/.local/lib/python3.7/site-packages/tensorflow/python/pywrap_tensorflow.py\u001b[0m in \u001b[0;36mswig_import_helper\u001b[0;34m()\u001b[0m\n\u001b[1;32m     23\u001b[0m             \u001b[0;32mtry\u001b[0m\u001b[0;34m:\u001b[0m\u001b[0;34m\u001b[0m\u001b[0;34m\u001b[0m\u001b[0m\n\u001b[0;32m---> 24\u001b[0;31m                 \u001b[0m_mod\u001b[0m \u001b[0;34m=\u001b[0m \u001b[0mimp\u001b[0m\u001b[0;34m.\u001b[0m\u001b[0mload_module\u001b[0m\u001b[0;34m(\u001b[0m\u001b[0;34m'_pywrap_tensorflow'\u001b[0m\u001b[0;34m,\u001b[0m \u001b[0mfp\u001b[0m\u001b[0;34m,\u001b[0m \u001b[0mpathname\u001b[0m\u001b[0;34m,\u001b[0m \u001b[0mdescription\u001b[0m\u001b[0;34m)\u001b[0m\u001b[0;34m\u001b[0m\u001b[0;34m\u001b[0m\u001b[0m\n\u001b[0m\u001b[1;32m     25\u001b[0m             \u001b[0;32mfinally\u001b[0m\u001b[0;34m:\u001b[0m\u001b[0;34m\u001b[0m\u001b[0;34m\u001b[0m\u001b[0m\n",
      "\u001b[0;32m/usr/lib/python3.7/imp.py\u001b[0m in \u001b[0;36mload_module\u001b[0;34m(name, file, filename, details)\u001b[0m\n\u001b[1;32m    241\u001b[0m         \u001b[0;32melse\u001b[0m\u001b[0;34m:\u001b[0m\u001b[0;34m\u001b[0m\u001b[0;34m\u001b[0m\u001b[0m\n\u001b[0;32m--> 242\u001b[0;31m             \u001b[0;32mreturn\u001b[0m \u001b[0mload_dynamic\u001b[0m\u001b[0;34m(\u001b[0m\u001b[0mname\u001b[0m\u001b[0;34m,\u001b[0m \u001b[0mfilename\u001b[0m\u001b[0;34m,\u001b[0m \u001b[0mfile\u001b[0m\u001b[0;34m)\u001b[0m\u001b[0;34m\u001b[0m\u001b[0;34m\u001b[0m\u001b[0m\n\u001b[0m\u001b[1;32m    243\u001b[0m     \u001b[0;32melif\u001b[0m \u001b[0mtype_\u001b[0m \u001b[0;34m==\u001b[0m \u001b[0mPKG_DIRECTORY\u001b[0m\u001b[0;34m:\u001b[0m\u001b[0;34m\u001b[0m\u001b[0;34m\u001b[0m\u001b[0m\n",
      "\u001b[0;32m/usr/lib/python3.7/imp.py\u001b[0m in \u001b[0;36mload_dynamic\u001b[0;34m(name, path, file)\u001b[0m\n\u001b[1;32m    341\u001b[0m             name=name, loader=loader, origin=path)\n\u001b[0;32m--> 342\u001b[0;31m         \u001b[0;32mreturn\u001b[0m \u001b[0m_load\u001b[0m\u001b[0;34m(\u001b[0m\u001b[0mspec\u001b[0m\u001b[0;34m)\u001b[0m\u001b[0;34m\u001b[0m\u001b[0;34m\u001b[0m\u001b[0m\n\u001b[0m\u001b[1;32m    343\u001b[0m \u001b[0;34m\u001b[0m\u001b[0m\n",
      "\u001b[0;31mImportError\u001b[0m: /home/nitin/.local/lib/python3.7/site-packages/tensorflow/python/_pywrap_tensorflow.so: invalid ELF header",
      "\nDuring handling of the above exception, another exception occurred:\n",
      "\u001b[0;31mImportError\u001b[0m                               Traceback (most recent call last)",
      "\u001b[0;32m<ipython-input-1-ddb00342e348>\u001b[0m in \u001b[0;36m<module>\u001b[0;34m\u001b[0m\n\u001b[1;32m      2\u001b[0m \u001b[0;32mimport\u001b[0m \u001b[0mjson\u001b[0m\u001b[0;34m\u001b[0m\u001b[0;34m\u001b[0m\u001b[0m\n\u001b[1;32m      3\u001b[0m \u001b[0;32mimport\u001b[0m \u001b[0mrequests\u001b[0m\u001b[0;34m\u001b[0m\u001b[0;34m\u001b[0m\u001b[0m\n\u001b[0;32m----> 4\u001b[0;31m \u001b[0;32mfrom\u001b[0m \u001b[0mkeras\u001b[0m\u001b[0;34m.\u001b[0m\u001b[0mmodels\u001b[0m \u001b[0;32mimport\u001b[0m \u001b[0mSequential\u001b[0m\u001b[0;34m\u001b[0m\u001b[0;34m\u001b[0m\u001b[0m\n\u001b[0m\u001b[1;32m      5\u001b[0m \u001b[0;32mfrom\u001b[0m \u001b[0mkeras\u001b[0m\u001b[0;34m.\u001b[0m\u001b[0mlayers\u001b[0m \u001b[0;32mimport\u001b[0m \u001b[0mActivation\u001b[0m\u001b[0;34m,\u001b[0m \u001b[0mDense\u001b[0m\u001b[0;34m,\u001b[0m \u001b[0mDropout\u001b[0m\u001b[0;34m,\u001b[0m \u001b[0mLSTM\u001b[0m\u001b[0;34m\u001b[0m\u001b[0;34m\u001b[0m\u001b[0m\n\u001b[1;32m      6\u001b[0m \u001b[0;32mimport\u001b[0m \u001b[0mmatplotlib\u001b[0m\u001b[0;34m.\u001b[0m\u001b[0mpyplot\u001b[0m \u001b[0;32mas\u001b[0m \u001b[0mplt\u001b[0m\u001b[0;34m\u001b[0m\u001b[0;34m\u001b[0m\u001b[0m\n",
      "\u001b[0;32m~/.local/lib/python3.7/site-packages/keras/__init__.py\u001b[0m in \u001b[0;36m<module>\u001b[0;34m\u001b[0m\n\u001b[1;32m     19\u001b[0m \"\"\"\n\u001b[1;32m     20\u001b[0m \u001b[0;31m# pylint: disable=unused-import\u001b[0m\u001b[0;34m\u001b[0m\u001b[0;34m\u001b[0m\u001b[0;34m\u001b[0m\u001b[0m\n\u001b[0;32m---> 21\u001b[0;31m \u001b[0;32mfrom\u001b[0m \u001b[0mtensorflow\u001b[0m\u001b[0;34m.\u001b[0m\u001b[0mpython\u001b[0m \u001b[0;32mimport\u001b[0m \u001b[0mtf2\u001b[0m\u001b[0;34m\u001b[0m\u001b[0;34m\u001b[0m\u001b[0m\n\u001b[0m\u001b[1;32m     22\u001b[0m \u001b[0;32mfrom\u001b[0m \u001b[0mkeras\u001b[0m \u001b[0;32mimport\u001b[0m \u001b[0mdistribute\u001b[0m\u001b[0;34m\u001b[0m\u001b[0;34m\u001b[0m\u001b[0m\n\u001b[1;32m     23\u001b[0m \u001b[0;34m\u001b[0m\u001b[0m\n",
      "\u001b[0;32m~/.local/lib/python3.7/site-packages/tensorflow/__init__.py\u001b[0m in \u001b[0;36m<module>\u001b[0;34m\u001b[0m\n\u001b[1;32m     22\u001b[0m \u001b[0;34m\u001b[0m\u001b[0m\n\u001b[1;32m     23\u001b[0m \u001b[0;31m# pylint: disable=wildcard-import\u001b[0m\u001b[0;34m\u001b[0m\u001b[0;34m\u001b[0m\u001b[0;34m\u001b[0m\u001b[0m\n\u001b[0;32m---> 24\u001b[0;31m \u001b[0;32mfrom\u001b[0m \u001b[0mtensorflow\u001b[0m\u001b[0;34m.\u001b[0m\u001b[0mpython\u001b[0m \u001b[0;32mimport\u001b[0m \u001b[0;34m*\u001b[0m\u001b[0;34m\u001b[0m\u001b[0;34m\u001b[0m\u001b[0m\n\u001b[0m\u001b[1;32m     25\u001b[0m \u001b[0;31m# pylint: enable=wildcard-import\u001b[0m\u001b[0;34m\u001b[0m\u001b[0;34m\u001b[0m\u001b[0;34m\u001b[0m\u001b[0m\n\u001b[1;32m     26\u001b[0m \u001b[0;34m\u001b[0m\u001b[0m\n",
      "\u001b[0;32m~/.local/lib/python3.7/site-packages/tensorflow/python/__init__.py\u001b[0m in \u001b[0;36m<module>\u001b[0;34m\u001b[0m\n\u001b[1;32m     70\u001b[0m \u001b[0;32mfor\u001b[0m \u001b[0msome\u001b[0m \u001b[0mcommon\u001b[0m \u001b[0mreasons\u001b[0m \u001b[0;32mand\u001b[0m \u001b[0msolutions\u001b[0m\u001b[0;34m.\u001b[0m  \u001b[0mInclude\u001b[0m \u001b[0mthe\u001b[0m \u001b[0mentire\u001b[0m \u001b[0mstack\u001b[0m \u001b[0mtrace\u001b[0m\u001b[0;34m\u001b[0m\u001b[0;34m\u001b[0m\u001b[0m\n\u001b[1;32m     71\u001b[0m above this error message when asking for help.\"\"\" % traceback.format_exc()\n\u001b[0;32m---> 72\u001b[0;31m   \u001b[0;32mraise\u001b[0m \u001b[0mImportError\u001b[0m\u001b[0;34m(\u001b[0m\u001b[0mmsg\u001b[0m\u001b[0;34m)\u001b[0m\u001b[0;34m\u001b[0m\u001b[0;34m\u001b[0m\u001b[0m\n\u001b[0m\u001b[1;32m     73\u001b[0m \u001b[0;34m\u001b[0m\u001b[0m\n\u001b[1;32m     74\u001b[0m \u001b[0;31m# Protocol buffers\u001b[0m\u001b[0;34m\u001b[0m\u001b[0;34m\u001b[0m\u001b[0;34m\u001b[0m\u001b[0m\n",
      "\u001b[0;31mImportError\u001b[0m: Traceback (most recent call last):\n  File \"/home/nitin/.local/lib/python3.7/site-packages/tensorflow/python/__init__.py\", line 61, in <module>\n    from tensorflow.python import pywrap_tensorflow\n  File \"/home/nitin/.local/lib/python3.7/site-packages/tensorflow/python/pywrap_tensorflow.py\", line 28, in <module>\n    _pywrap_tensorflow = swig_import_helper()\n  File \"/home/nitin/.local/lib/python3.7/site-packages/tensorflow/python/pywrap_tensorflow.py\", line 24, in swig_import_helper\n    _mod = imp.load_module('_pywrap_tensorflow', fp, pathname, description)\n  File \"/usr/lib/python3.7/imp.py\", line 242, in load_module\n    return load_dynamic(name, filename, file)\n  File \"/usr/lib/python3.7/imp.py\", line 342, in load_dynamic\n    return _load(spec)\nImportError: /home/nitin/.local/lib/python3.7/site-packages/tensorflow/python/_pywrap_tensorflow.so: invalid ELF header\n\n\nFailed to load the native TensorFlow runtime.\n\nSee https://github.com/tensorflow/tensorflow/blob/master/tensorflow/g3doc/get_started/os_setup.md#import_error\n\nfor some common reasons and solutions.  Include the entire stack trace\nabove this error message when asking for help."
     ]
    }
   ],
   "source": [
    "#tensorflow_version 2.x\n",
    "import json\n",
    "import requests\n",
    "from keras.models import Sequential\n",
    "from keras.layers import Activation, Dense, Dropout, LSTM\n",
    "import matplotlib.pyplot as plt\n",
    "import numpy as np\n",
    "import pandas as pd\n",
    "import seaborn as sns\n",
    "from sklearn.metrics import mean_absolute_error\n",
    "#matplotlib inline"
   ]
  },
  {
   "cell_type": "code",
   "execution_count": 41,
   "metadata": {},
   "outputs": [
    {
     "name": "stdout",
     "output_type": "stream",
     "text": [
      "<Response [200]>\n"
     ]
    }
   ],
   "source": [
    "endpoint = 'https://min-api.cryptocompare.com/data/histoday'\n",
    "res = requests.get(endpoint + '?fsym=BTC&tsym=CAD&limit=2000')\n",
    "print(res)\n",
    "hist = pd.DataFrame(json.loads(res.content)['Data'])\n",
    "'''\n",
    "predictive = {\"time\":[]}\n",
    "for i in range(100):\n",
    "    predictive[\"time\"].append(hist[\"time\"][2000] + (i+1)*86400)\n",
    "    \n",
    "predictive = pd.DataFrame(predictive)\n",
    "print(predictive)\n",
    "hist = pd.concat([hist,predictive],ignore_index = True)\n",
    "print(hist)\n",
    "'''\n",
    "hist = hist.set_index('time')\n",
    "hist.index = pd.to_datetime(hist.index, unit='s')\n",
    "target_col = 'close'\n"
   ]
  },
  {
   "cell_type": "code",
   "execution_count": 42,
   "metadata": {},
   "outputs": [
    {
     "name": "stdout",
     "output_type": "stream",
     "text": [
      "                high       low      open  volumefrom    volumeto     close  \\\n",
      "time                                                                         \n",
      "2016-12-04   1017.00   1007.01   1017.00      158.48   161201.49   1017.00   \n",
      "2016-12-05   1017.00    994.00   1017.00      241.40   243283.25   1008.82   \n",
      "2016-12-06   1010.99    998.16   1008.82      227.02   229523.69   1010.00   \n",
      "2016-12-07   1017.63   1000.01   1010.00      268.43   272126.46   1010.74   \n",
      "2016-12-08   1018.00   1003.01   1010.74      307.08   311941.36   1017.97   \n",
      "...              ...       ...       ...         ...         ...       ...   \n",
      "2022-05-23  39138.84  36918.26  38856.05       57.71  2215947.33  37161.03   \n",
      "2022-05-24  38171.58  36642.62  37161.03       83.64  3110028.03  37995.98   \n",
      "2022-05-25  38663.05  37762.72  37995.98       70.78  2694899.44  37858.57   \n",
      "2022-05-26  38279.17  35953.99  37858.57      131.41  4896654.47  37326.95   \n",
      "2022-05-27  37464.46  35991.39  37326.95       57.49  2111850.91  36627.23   \n",
      "\n",
      "           conversionType conversionSymbol  \n",
      "time                                        \n",
      "2016-12-04         direct                   \n",
      "2016-12-05         direct                   \n",
      "2016-12-06         direct                   \n",
      "2016-12-07         direct                   \n",
      "2016-12-08         direct                   \n",
      "...                   ...              ...  \n",
      "2022-05-23         direct                   \n",
      "2022-05-24         direct                   \n",
      "2022-05-25         direct                   \n",
      "2022-05-26         direct                   \n",
      "2022-05-27         direct                   \n",
      "\n",
      "[2001 rows x 8 columns]\n"
     ]
    }
   ],
   "source": [
    "print(hist)\n"
   ]
  },
  {
   "cell_type": "code",
   "execution_count": 43,
   "metadata": {},
   "outputs": [],
   "source": [
    "hist.drop([\"conversionType\", \"conversionSymbol\"], axis = 'columns', inplace = True)"
   ]
  },
  {
   "cell_type": "code",
   "execution_count": 44,
   "metadata": {},
   "outputs": [
    {
     "data": {
      "text/html": [
       "<div>\n",
       "<style scoped>\n",
       "    .dataframe tbody tr th:only-of-type {\n",
       "        vertical-align: middle;\n",
       "    }\n",
       "\n",
       "    .dataframe tbody tr th {\n",
       "        vertical-align: top;\n",
       "    }\n",
       "\n",
       "    .dataframe thead th {\n",
       "        text-align: right;\n",
       "    }\n",
       "</style>\n",
       "<table border=\"1\" class=\"dataframe\">\n",
       "  <thead>\n",
       "    <tr style=\"text-align: right;\">\n",
       "      <th></th>\n",
       "      <th>high</th>\n",
       "      <th>low</th>\n",
       "      <th>open</th>\n",
       "      <th>volumefrom</th>\n",
       "      <th>volumeto</th>\n",
       "      <th>close</th>\n",
       "    </tr>\n",
       "    <tr>\n",
       "      <th>time</th>\n",
       "      <th></th>\n",
       "      <th></th>\n",
       "      <th></th>\n",
       "      <th></th>\n",
       "      <th></th>\n",
       "      <th></th>\n",
       "    </tr>\n",
       "  </thead>\n",
       "  <tbody>\n",
       "    <tr>\n",
       "      <th>2016-12-04</th>\n",
       "      <td>1017.00</td>\n",
       "      <td>1007.01</td>\n",
       "      <td>1017.00</td>\n",
       "      <td>158.48</td>\n",
       "      <td>161201.49</td>\n",
       "      <td>1017.00</td>\n",
       "    </tr>\n",
       "    <tr>\n",
       "      <th>2016-12-05</th>\n",
       "      <td>1017.00</td>\n",
       "      <td>994.00</td>\n",
       "      <td>1017.00</td>\n",
       "      <td>241.40</td>\n",
       "      <td>243283.25</td>\n",
       "      <td>1008.82</td>\n",
       "    </tr>\n",
       "    <tr>\n",
       "      <th>2016-12-06</th>\n",
       "      <td>1010.99</td>\n",
       "      <td>998.16</td>\n",
       "      <td>1008.82</td>\n",
       "      <td>227.02</td>\n",
       "      <td>229523.69</td>\n",
       "      <td>1010.00</td>\n",
       "    </tr>\n",
       "    <tr>\n",
       "      <th>2016-12-07</th>\n",
       "      <td>1017.63</td>\n",
       "      <td>1000.01</td>\n",
       "      <td>1010.00</td>\n",
       "      <td>268.43</td>\n",
       "      <td>272126.46</td>\n",
       "      <td>1010.74</td>\n",
       "    </tr>\n",
       "    <tr>\n",
       "      <th>2016-12-08</th>\n",
       "      <td>1018.00</td>\n",
       "      <td>1003.01</td>\n",
       "      <td>1010.74</td>\n",
       "      <td>307.08</td>\n",
       "      <td>311941.36</td>\n",
       "      <td>1017.97</td>\n",
       "    </tr>\n",
       "    <tr>\n",
       "      <th>...</th>\n",
       "      <td>...</td>\n",
       "      <td>...</td>\n",
       "      <td>...</td>\n",
       "      <td>...</td>\n",
       "      <td>...</td>\n",
       "      <td>...</td>\n",
       "    </tr>\n",
       "    <tr>\n",
       "      <th>2022-05-23</th>\n",
       "      <td>39138.84</td>\n",
       "      <td>36918.26</td>\n",
       "      <td>38856.05</td>\n",
       "      <td>57.71</td>\n",
       "      <td>2215947.33</td>\n",
       "      <td>37161.03</td>\n",
       "    </tr>\n",
       "    <tr>\n",
       "      <th>2022-05-24</th>\n",
       "      <td>38171.58</td>\n",
       "      <td>36642.62</td>\n",
       "      <td>37161.03</td>\n",
       "      <td>83.64</td>\n",
       "      <td>3110028.03</td>\n",
       "      <td>37995.98</td>\n",
       "    </tr>\n",
       "    <tr>\n",
       "      <th>2022-05-25</th>\n",
       "      <td>38663.05</td>\n",
       "      <td>37762.72</td>\n",
       "      <td>37995.98</td>\n",
       "      <td>70.78</td>\n",
       "      <td>2694899.44</td>\n",
       "      <td>37858.57</td>\n",
       "    </tr>\n",
       "    <tr>\n",
       "      <th>2022-05-26</th>\n",
       "      <td>38279.17</td>\n",
       "      <td>35953.99</td>\n",
       "      <td>37858.57</td>\n",
       "      <td>131.41</td>\n",
       "      <td>4896654.47</td>\n",
       "      <td>37326.95</td>\n",
       "    </tr>\n",
       "    <tr>\n",
       "      <th>2022-05-27</th>\n",
       "      <td>37464.46</td>\n",
       "      <td>35991.39</td>\n",
       "      <td>37326.95</td>\n",
       "      <td>57.49</td>\n",
       "      <td>2111850.91</td>\n",
       "      <td>36627.23</td>\n",
       "    </tr>\n",
       "  </tbody>\n",
       "</table>\n",
       "<p>2001 rows × 6 columns</p>\n",
       "</div>"
      ],
      "text/plain": [
       "                high       low      open  volumefrom    volumeto     close\n",
       "time                                                                      \n",
       "2016-12-04   1017.00   1007.01   1017.00      158.48   161201.49   1017.00\n",
       "2016-12-05   1017.00    994.00   1017.00      241.40   243283.25   1008.82\n",
       "2016-12-06   1010.99    998.16   1008.82      227.02   229523.69   1010.00\n",
       "2016-12-07   1017.63   1000.01   1010.00      268.43   272126.46   1010.74\n",
       "2016-12-08   1018.00   1003.01   1010.74      307.08   311941.36   1017.97\n",
       "...              ...       ...       ...         ...         ...       ...\n",
       "2022-05-23  39138.84  36918.26  38856.05       57.71  2215947.33  37161.03\n",
       "2022-05-24  38171.58  36642.62  37161.03       83.64  3110028.03  37995.98\n",
       "2022-05-25  38663.05  37762.72  37995.98       70.78  2694899.44  37858.57\n",
       "2022-05-26  38279.17  35953.99  37858.57      131.41  4896654.47  37326.95\n",
       "2022-05-27  37464.46  35991.39  37326.95       57.49  2111850.91  36627.23\n",
       "\n",
       "[2001 rows x 6 columns]"
      ]
     },
     "execution_count": 44,
     "metadata": {},
     "output_type": "execute_result"
    }
   ],
   "source": [
    "hist"
   ]
  },
  {
   "cell_type": "code",
   "execution_count": 45,
   "metadata": {},
   "outputs": [],
   "source": [
    "def train_test_split(df, test_size=0.2):\n",
    "    split_row = len(df) - int(test_size * len(df))\n",
    "    train_data = df.iloc[:split_row]\n",
    "    test_data = df.iloc[split_row:]\n",
    "    return train_data, test_data"
   ]
  },
  {
   "cell_type": "code",
   "execution_count": 46,
   "metadata": {},
   "outputs": [],
   "source": [
    "train, test = train_test_split(hist, test_size=0.1)"
   ]
  },
  {
   "cell_type": "code",
   "execution_count": 47,
   "metadata": {},
   "outputs": [
    {
     "data": {
      "text/html": [
       "<div>\n",
       "<style scoped>\n",
       "    .dataframe tbody tr th:only-of-type {\n",
       "        vertical-align: middle;\n",
       "    }\n",
       "\n",
       "    .dataframe tbody tr th {\n",
       "        vertical-align: top;\n",
       "    }\n",
       "\n",
       "    .dataframe thead th {\n",
       "        text-align: right;\n",
       "    }\n",
       "</style>\n",
       "<table border=\"1\" class=\"dataframe\">\n",
       "  <thead>\n",
       "    <tr style=\"text-align: right;\">\n",
       "      <th></th>\n",
       "      <th>high</th>\n",
       "      <th>low</th>\n",
       "      <th>open</th>\n",
       "      <th>volumefrom</th>\n",
       "      <th>volumeto</th>\n",
       "      <th>close</th>\n",
       "    </tr>\n",
       "    <tr>\n",
       "      <th>time</th>\n",
       "      <th></th>\n",
       "      <th></th>\n",
       "      <th></th>\n",
       "      <th></th>\n",
       "      <th></th>\n",
       "      <th></th>\n",
       "    </tr>\n",
       "  </thead>\n",
       "  <tbody>\n",
       "    <tr>\n",
       "      <th>2016-12-04</th>\n",
       "      <td>1017.00</td>\n",
       "      <td>1007.01</td>\n",
       "      <td>1017.00</td>\n",
       "      <td>158.48</td>\n",
       "      <td>1.612015e+05</td>\n",
       "      <td>1017.00</td>\n",
       "    </tr>\n",
       "    <tr>\n",
       "      <th>2016-12-05</th>\n",
       "      <td>1017.00</td>\n",
       "      <td>994.00</td>\n",
       "      <td>1017.00</td>\n",
       "      <td>241.40</td>\n",
       "      <td>2.432832e+05</td>\n",
       "      <td>1008.82</td>\n",
       "    </tr>\n",
       "    <tr>\n",
       "      <th>2016-12-06</th>\n",
       "      <td>1010.99</td>\n",
       "      <td>998.16</td>\n",
       "      <td>1008.82</td>\n",
       "      <td>227.02</td>\n",
       "      <td>2.295237e+05</td>\n",
       "      <td>1010.00</td>\n",
       "    </tr>\n",
       "    <tr>\n",
       "      <th>2016-12-07</th>\n",
       "      <td>1017.63</td>\n",
       "      <td>1000.01</td>\n",
       "      <td>1010.00</td>\n",
       "      <td>268.43</td>\n",
       "      <td>2.721265e+05</td>\n",
       "      <td>1010.74</td>\n",
       "    </tr>\n",
       "    <tr>\n",
       "      <th>2016-12-08</th>\n",
       "      <td>1018.00</td>\n",
       "      <td>1003.01</td>\n",
       "      <td>1010.74</td>\n",
       "      <td>307.08</td>\n",
       "      <td>3.119414e+05</td>\n",
       "      <td>1017.97</td>\n",
       "    </tr>\n",
       "    <tr>\n",
       "      <th>...</th>\n",
       "      <td>...</td>\n",
       "      <td>...</td>\n",
       "      <td>...</td>\n",
       "      <td>...</td>\n",
       "      <td>...</td>\n",
       "      <td>...</td>\n",
       "    </tr>\n",
       "    <tr>\n",
       "      <th>2021-11-04</th>\n",
       "      <td>78291.48</td>\n",
       "      <td>75455.43</td>\n",
       "      <td>78051.33</td>\n",
       "      <td>3009.87</td>\n",
       "      <td>2.313692e+08</td>\n",
       "      <td>76698.03</td>\n",
       "    </tr>\n",
       "    <tr>\n",
       "      <th>2021-11-05</th>\n",
       "      <td>78243.17</td>\n",
       "      <td>75412.51</td>\n",
       "      <td>76698.03</td>\n",
       "      <td>4222.31</td>\n",
       "      <td>3.232532e+08</td>\n",
       "      <td>75735.38</td>\n",
       "    </tr>\n",
       "    <tr>\n",
       "      <th>2021-11-06</th>\n",
       "      <td>76899.22</td>\n",
       "      <td>74672.88</td>\n",
       "      <td>75735.38</td>\n",
       "      <td>3641.76</td>\n",
       "      <td>2.770490e+08</td>\n",
       "      <td>76342.33</td>\n",
       "    </tr>\n",
       "    <tr>\n",
       "      <th>2021-11-07</th>\n",
       "      <td>79008.55</td>\n",
       "      <td>76183.57</td>\n",
       "      <td>76342.33</td>\n",
       "      <td>3663.25</td>\n",
       "      <td>2.834000e+08</td>\n",
       "      <td>78553.37</td>\n",
       "    </tr>\n",
       "    <tr>\n",
       "      <th>2021-11-08</th>\n",
       "      <td>84517.82</td>\n",
       "      <td>78553.37</td>\n",
       "      <td>78553.37</td>\n",
       "      <td>4549.32</td>\n",
       "      <td>3.727111e+08</td>\n",
       "      <td>83762.71</td>\n",
       "    </tr>\n",
       "  </tbody>\n",
       "</table>\n",
       "<p>1801 rows × 6 columns</p>\n",
       "</div>"
      ],
      "text/plain": [
       "                high       low      open  volumefrom      volumeto     close\n",
       "time                                                                        \n",
       "2016-12-04   1017.00   1007.01   1017.00      158.48  1.612015e+05   1017.00\n",
       "2016-12-05   1017.00    994.00   1017.00      241.40  2.432832e+05   1008.82\n",
       "2016-12-06   1010.99    998.16   1008.82      227.02  2.295237e+05   1010.00\n",
       "2016-12-07   1017.63   1000.01   1010.00      268.43  2.721265e+05   1010.74\n",
       "2016-12-08   1018.00   1003.01   1010.74      307.08  3.119414e+05   1017.97\n",
       "...              ...       ...       ...         ...           ...       ...\n",
       "2021-11-04  78291.48  75455.43  78051.33     3009.87  2.313692e+08  76698.03\n",
       "2021-11-05  78243.17  75412.51  76698.03     4222.31  3.232532e+08  75735.38\n",
       "2021-11-06  76899.22  74672.88  75735.38     3641.76  2.770490e+08  76342.33\n",
       "2021-11-07  79008.55  76183.57  76342.33     3663.25  2.834000e+08  78553.37\n",
       "2021-11-08  84517.82  78553.37  78553.37     4549.32  3.727111e+08  83762.71\n",
       "\n",
       "[1801 rows x 6 columns]"
      ]
     },
     "execution_count": 47,
     "metadata": {},
     "output_type": "execute_result"
    }
   ],
   "source": [
    "train"
   ]
  },
  {
   "cell_type": "code",
   "execution_count": 48,
   "metadata": {},
   "outputs": [
    {
     "data": {
      "text/html": [
       "<div>\n",
       "<style scoped>\n",
       "    .dataframe tbody tr th:only-of-type {\n",
       "        vertical-align: middle;\n",
       "    }\n",
       "\n",
       "    .dataframe tbody tr th {\n",
       "        vertical-align: top;\n",
       "    }\n",
       "\n",
       "    .dataframe thead th {\n",
       "        text-align: right;\n",
       "    }\n",
       "</style>\n",
       "<table border=\"1\" class=\"dataframe\">\n",
       "  <thead>\n",
       "    <tr style=\"text-align: right;\">\n",
       "      <th></th>\n",
       "      <th>high</th>\n",
       "      <th>low</th>\n",
       "      <th>open</th>\n",
       "      <th>volumefrom</th>\n",
       "      <th>volumeto</th>\n",
       "      <th>close</th>\n",
       "    </tr>\n",
       "    <tr>\n",
       "      <th>time</th>\n",
       "      <th></th>\n",
       "      <th></th>\n",
       "      <th></th>\n",
       "      <th></th>\n",
       "      <th></th>\n",
       "      <th></th>\n",
       "    </tr>\n",
       "  </thead>\n",
       "  <tbody>\n",
       "    <tr>\n",
       "      <th>2021-11-09</th>\n",
       "      <td>85551.96</td>\n",
       "      <td>82281.77</td>\n",
       "      <td>83762.71</td>\n",
       "      <td>2574.31</td>\n",
       "      <td>2.161161e+08</td>\n",
       "      <td>82964.70</td>\n",
       "    </tr>\n",
       "    <tr>\n",
       "      <th>2021-11-10</th>\n",
       "      <td>85805.64</td>\n",
       "      <td>78425.57</td>\n",
       "      <td>82964.70</td>\n",
       "      <td>3325.90</td>\n",
       "      <td>2.760509e+08</td>\n",
       "      <td>81294.31</td>\n",
       "    </tr>\n",
       "    <tr>\n",
       "      <th>2021-11-11</th>\n",
       "      <td>82541.00</td>\n",
       "      <td>79889.19</td>\n",
       "      <td>81294.31</td>\n",
       "      <td>2504.95</td>\n",
       "      <td>2.038858e+08</td>\n",
       "      <td>81812.05</td>\n",
       "    </tr>\n",
       "    <tr>\n",
       "      <th>2021-11-12</th>\n",
       "      <td>82662.73</td>\n",
       "      <td>77992.17</td>\n",
       "      <td>81812.05</td>\n",
       "      <td>3446.16</td>\n",
       "      <td>2.783208e+08</td>\n",
       "      <td>80732.43</td>\n",
       "    </tr>\n",
       "    <tr>\n",
       "      <th>2021-11-13</th>\n",
       "      <td>81712.25</td>\n",
       "      <td>79305.22</td>\n",
       "      <td>80732.43</td>\n",
       "      <td>4005.33</td>\n",
       "      <td>3.217836e+08</td>\n",
       "      <td>80557.80</td>\n",
       "    </tr>\n",
       "    <tr>\n",
       "      <th>...</th>\n",
       "      <td>...</td>\n",
       "      <td>...</td>\n",
       "      <td>...</td>\n",
       "      <td>...</td>\n",
       "      <td>...</td>\n",
       "      <td>...</td>\n",
       "    </tr>\n",
       "    <tr>\n",
       "      <th>2022-05-23</th>\n",
       "      <td>39138.84</td>\n",
       "      <td>36918.26</td>\n",
       "      <td>38856.05</td>\n",
       "      <td>57.71</td>\n",
       "      <td>2.215947e+06</td>\n",
       "      <td>37161.03</td>\n",
       "    </tr>\n",
       "    <tr>\n",
       "      <th>2022-05-24</th>\n",
       "      <td>38171.58</td>\n",
       "      <td>36642.62</td>\n",
       "      <td>37161.03</td>\n",
       "      <td>83.64</td>\n",
       "      <td>3.110028e+06</td>\n",
       "      <td>37995.98</td>\n",
       "    </tr>\n",
       "    <tr>\n",
       "      <th>2022-05-25</th>\n",
       "      <td>38663.05</td>\n",
       "      <td>37762.72</td>\n",
       "      <td>37995.98</td>\n",
       "      <td>70.78</td>\n",
       "      <td>2.694899e+06</td>\n",
       "      <td>37858.57</td>\n",
       "    </tr>\n",
       "    <tr>\n",
       "      <th>2022-05-26</th>\n",
       "      <td>38279.17</td>\n",
       "      <td>35953.99</td>\n",
       "      <td>37858.57</td>\n",
       "      <td>131.41</td>\n",
       "      <td>4.896654e+06</td>\n",
       "      <td>37326.95</td>\n",
       "    </tr>\n",
       "    <tr>\n",
       "      <th>2022-05-27</th>\n",
       "      <td>37464.46</td>\n",
       "      <td>35991.39</td>\n",
       "      <td>37326.95</td>\n",
       "      <td>57.49</td>\n",
       "      <td>2.111851e+06</td>\n",
       "      <td>36627.23</td>\n",
       "    </tr>\n",
       "  </tbody>\n",
       "</table>\n",
       "<p>200 rows × 6 columns</p>\n",
       "</div>"
      ],
      "text/plain": [
       "                high       low      open  volumefrom      volumeto     close\n",
       "time                                                                        \n",
       "2021-11-09  85551.96  82281.77  83762.71     2574.31  2.161161e+08  82964.70\n",
       "2021-11-10  85805.64  78425.57  82964.70     3325.90  2.760509e+08  81294.31\n",
       "2021-11-11  82541.00  79889.19  81294.31     2504.95  2.038858e+08  81812.05\n",
       "2021-11-12  82662.73  77992.17  81812.05     3446.16  2.783208e+08  80732.43\n",
       "2021-11-13  81712.25  79305.22  80732.43     4005.33  3.217836e+08  80557.80\n",
       "...              ...       ...       ...         ...           ...       ...\n",
       "2022-05-23  39138.84  36918.26  38856.05       57.71  2.215947e+06  37161.03\n",
       "2022-05-24  38171.58  36642.62  37161.03       83.64  3.110028e+06  37995.98\n",
       "2022-05-25  38663.05  37762.72  37995.98       70.78  2.694899e+06  37858.57\n",
       "2022-05-26  38279.17  35953.99  37858.57      131.41  4.896654e+06  37326.95\n",
       "2022-05-27  37464.46  35991.39  37326.95       57.49  2.111851e+06  36627.23\n",
       "\n",
       "[200 rows x 6 columns]"
      ]
     },
     "execution_count": 48,
     "metadata": {},
     "output_type": "execute_result"
    }
   ],
   "source": [
    "test"
   ]
  },
  {
   "cell_type": "code",
   "execution_count": 49,
   "metadata": {},
   "outputs": [],
   "source": [
    "def line_plot(line1, line2, label1=None, label2=None, title='', lw=2):\n",
    "    fig, ax = plt.subplots(1, figsize=(13, 7))\n",
    "    ax.plot(line1, label=label1, linewidth=lw)\n",
    "    ax.plot(line2, label=label2, linewidth=lw)\n",
    "    ax.set_ylabel('price [CAD]', fontsize=14)\n",
    "    ax.set_title(title, fontsize=16)\n",
    "    ax.legend(loc='best', fontsize=16);"
   ]
  },
  {
   "cell_type": "code",
   "execution_count": 50,
   "metadata": {},
   "outputs": [
    {
     "data": {
      "image/png": "[encoded data removed]",
      "text/plain": [
       "<Figure size 936x504 with 1 Axes>"
      ]
     },
     "metadata": {
      "needs_background": "light"
     },
     "output_type": "display_data"
    }
   ],
   "source": [
    "line_plot(train[target_col], test[target_col], 'training', 'test', title='')"
   ]
  },
  {
   "cell_type": "code",
   "execution_count": 51,
   "metadata": {},
   "outputs": [],
   "source": [
    "def normalise_zero_base(df):\n",
    "    return df / df.iloc[0] - 1\n",
    "\n",
    "def normalise_min_max(df):\n",
    "    return (df - df.min()) / (data.max() - df.min())"
   ]
  },
  {
   "cell_type": "code",
   "execution_count": 52,
   "metadata": {},
   "outputs": [],
   "source": [
    "def extract_window_data(df, window_len=5, zero_base=True):\n",
    "    window_data = []\n",
    "    for idx in range(len(df) - window_len):\n",
    "        tmp = df[idx: (idx + window_len)].copy()\n",
    "        if zero_base:\n",
    "            tmp = normalise_zero_base(tmp)\n",
    "        window_data.append(tmp.values)\n",
    "    return np.array(window_data)"
   ]
  },
  {
   "cell_type": "code",
   "execution_count": null,
   "metadata": {},
   "outputs": [],
   "source": []
  },
  {
   "cell_type": "code",
   "execution_count": 53,
   "metadata": {},
   "outputs": [],
   "source": [
    "def prepare_data(df, target_col, window_len=10, zero_base=True, test_size=0.1):\n",
    "    train_data, test_data = train_test_split(df, test_size=test_size)\n",
    "    X_train = extract_window_data(train_data, window_len, zero_base)\n",
    "    X_test = extract_window_data(test_data, window_len, zero_base)\n",
    "    y_train = train_data[target_col][window_len:].values\n",
    "    y_test = test_data[target_col][window_len:].values\n",
    "    if zero_base:\n",
    "        y_train = y_train / train_data[target_col][:-window_len].values - 1\n",
    "        y_test = y_test / test_data[target_col][:-window_len].values - 1\n",
    "\n",
    "    return train_data, test_data, X_train, X_test, y_train, y_test"
   ]
  },
  {
   "cell_type": "code",
   "execution_count": 54,
   "metadata": {},
   "outputs": [],
   "source": [
    "def build_lstm_model(input_data, output_size, neurons=300, activ_func='linear',\n",
    "                     dropout=0.2, loss='mse', optimizer='adam'):\n",
    "    model = Sequential()\n",
    "    model.add(LSTM(neurons, input_shape=(input_data.shape[1], input_data.shape[2])))\n",
    "    model.add(Dropout(dropout))\n",
    "    model.add(Dense(units=output_size))\n",
    "    model.add(Activation(activ_func))\n",
    "\n",
    "    model.compile(loss=loss, optimizer=optimizer)\n",
    "    return model"
   ]
  },
  {
   "cell_type": "code",
   "execution_count": 55,
   "metadata": {},
   "outputs": [],
   "source": [
    "np.random.seed(42)\n",
    "window_len = 5\n",
    "test_size = 0.1\n",
    "zero_base = True\n",
    "lstm_neurons = 300\n",
    "epochs = 50\n",
    "batch_size = 36\n",
    "loss = 'mse'\n",
    "dropout = 0.2\n",
    "optimizer = 'adam'"
   ]
  },
  {
   "cell_type": "code",
   "execution_count": 56,
   "metadata": {},
   "outputs": [],
   "source": [
    "train, test, X_train, X_test, y_train, y_test = prepare_data(hist, target_col, window_len=window_len, zero_base=zero_base, test_size=test_size)"
   ]
  },
  {
   "cell_type": "code",
   "execution_count": 57,
   "metadata": {},
   "outputs": [
    {
     "name": "stdout",
     "output_type": "stream",
     "text": [
      "Epoch 1/50\n",
      "50/50 [==============================] - 2s 14ms/step - loss: 0.0112 - val_loss: 0.0020\n",
      "Epoch 2/50\n",
      "50/50 [==============================] - 0s 7ms/step - loss: 0.0037 - val_loss: 0.0017\n",
      "Epoch 3/50\n",
      "50/50 [==============================] - 0s 7ms/step - loss: 0.0053 - val_loss: 0.0016\n",
      "Epoch 4/50\n",
      "50/50 [==============================] - 0s 8ms/step - loss: 0.0047 - val_loss: 0.0021\n",
      "Epoch 5/50\n",
      "50/50 [==============================] - 0s 7ms/step - loss: 0.0034 - val_loss: 0.0016\n",
      "Epoch 6/50\n",
      "50/50 [==============================] - 0s 8ms/step - loss: 0.0034 - val_loss: 0.0013\n",
      "Epoch 7/50\n",
      "50/50 [==============================] - 0s 8ms/step - loss: 0.0026 - val_loss: 0.0013\n",
      "Epoch 8/50\n",
      "50/50 [==============================] - 0s 7ms/step - loss: 0.0025 - val_loss: 0.0015\n",
      "Epoch 9/50\n",
      "50/50 [==============================] - 0s 8ms/step - loss: 0.0026 - val_loss: 0.0013\n",
      "Epoch 10/50\n",
      "50/50 [==============================] - 0s 8ms/step - loss: 0.0029 - val_loss: 0.0014\n",
      "Epoch 11/50\n",
      "50/50 [==============================] - 0s 8ms/step - loss: 0.0021 - val_loss: 0.0013\n",
      "Epoch 12/50\n",
      "50/50 [==============================] - 0s 8ms/step - loss: 0.0026 - val_loss: 0.0012\n",
      "Epoch 13/50\n",
      "50/50 [==============================] - 0s 8ms/step - loss: 0.0027 - val_loss: 0.0012\n",
      "Epoch 14/50\n",
      "50/50 [==============================] - 0s 8ms/step - loss: 0.0022 - val_loss: 0.0012\n",
      "Epoch 15/50\n",
      "50/50 [==============================] - 0s 8ms/step - loss: 0.0022 - val_loss: 0.0012\n",
      "Epoch 16/50\n",
      "50/50 [==============================] - 0s 9ms/step - loss: 0.0022 - val_loss: 0.0012\n",
      "Epoch 17/50\n",
      "50/50 [==============================] - 0s 8ms/step - loss: 0.0021 - val_loss: 0.0014\n",
      "Epoch 18/50\n",
      "50/50 [==============================] - 0s 8ms/step - loss: 0.0021 - val_loss: 0.0012\n",
      "Epoch 19/50\n",
      "50/50 [==============================] - 0s 8ms/step - loss: 0.0024 - val_loss: 0.0012\n",
      "Epoch 20/50\n",
      "50/50 [==============================] - 0s 8ms/step - loss: 0.0022 - val_loss: 0.0012\n",
      "Epoch 21/50\n",
      "50/50 [==============================] - 0s 9ms/step - loss: 0.0020 - val_loss: 0.0012\n",
      "Epoch 22/50\n",
      "50/50 [==============================] - 0s 9ms/step - loss: 0.0021 - val_loss: 0.0012\n",
      "Epoch 23/50\n",
      "50/50 [==============================] - 0s 9ms/step - loss: 0.0020 - val_loss: 0.0012\n",
      "Epoch 24/50\n",
      "50/50 [==============================] - 0s 9ms/step - loss: 0.0020 - val_loss: 0.0012\n",
      "Epoch 25/50\n",
      "50/50 [==============================] - 0s 9ms/step - loss: 0.0019 - val_loss: 0.0011\n",
      "Epoch 26/50\n",
      "50/50 [==============================] - 0s 9ms/step - loss: 0.0021 - val_loss: 0.0012\n",
      "Epoch 27/50\n",
      "50/50 [==============================] - 0s 9ms/step - loss: 0.0020 - val_loss: 0.0012\n",
      "Epoch 28/50\n",
      "50/50 [==============================] - 0s 8ms/step - loss: 0.0019 - val_loss: 0.0011\n",
      "Epoch 29/50\n",
      "50/50 [==============================] - 0s 8ms/step - loss: 0.0020 - val_loss: 0.0012\n",
      "Epoch 30/50\n",
      "50/50 [==============================] - 0s 9ms/step - loss: 0.0019 - val_loss: 0.0014\n",
      "Epoch 31/50\n",
      "50/50 [==============================] - 0s 9ms/step - loss: 0.0019 - val_loss: 0.0012\n",
      "Epoch 32/50\n",
      "50/50 [==============================] - 0s 9ms/step - loss: 0.0019 - val_loss: 0.0012\n",
      "Epoch 33/50\n",
      "50/50 [==============================] - 0s 9ms/step - loss: 0.0019 - val_loss: 0.0011\n",
      "Epoch 34/50\n",
      "50/50 [==============================] - 0s 9ms/step - loss: 0.0019 - val_loss: 0.0012\n",
      "Epoch 35/50\n",
      "50/50 [==============================] - 0s 9ms/step - loss: 0.0018 - val_loss: 0.0012\n",
      "Epoch 36/50\n",
      "50/50 [==============================] - 0s 9ms/step - loss: 0.0018 - val_loss: 0.0012\n",
      "Epoch 37/50\n",
      "50/50 [==============================] - 0s 9ms/step - loss: 0.0018 - val_loss: 0.0011\n",
      "Epoch 38/50\n",
      "50/50 [==============================] - 1s 11ms/step - loss: 0.0018 - val_loss: 0.0011\n",
      "Epoch 39/50\n",
      "50/50 [==============================] - 1s 13ms/step - loss: 0.0020 - val_loss: 0.0012\n",
      "Epoch 40/50\n",
      "50/50 [==============================] - 0s 9ms/step - loss: 0.0019 - val_loss: 0.0011\n",
      "Epoch 41/50\n",
      "50/50 [==============================] - 0s 9ms/step - loss: 0.0018 - val_loss: 0.0012\n",
      "Epoch 42/50\n",
      "50/50 [==============================] - 0s 9ms/step - loss: 0.0018 - val_loss: 0.0012\n",
      "Epoch 43/50\n",
      "50/50 [==============================] - 0s 9ms/step - loss: 0.0018 - val_loss: 0.0011\n",
      "Epoch 44/50\n",
      "50/50 [==============================] - 0s 8ms/step - loss: 0.0018 - val_loss: 0.0012\n",
      "Epoch 45/50\n",
      "50/50 [==============================] - 0s 8ms/step - loss: 0.0018 - val_loss: 0.0011\n",
      "Epoch 46/50\n",
      "50/50 [==============================] - 0s 9ms/step - loss: 0.0018 - val_loss: 0.0011\n",
      "Epoch 47/50\n",
      "50/50 [==============================] - 0s 9ms/step - loss: 0.0019 - val_loss: 0.0011\n",
      "Epoch 48/50\n",
      "50/50 [==============================] - 0s 9ms/step - loss: 0.0018 - val_loss: 0.0012\n",
      "Epoch 49/50\n",
      "50/50 [==============================] - 0s 10ms/step - loss: 0.0018 - val_loss: 0.0012\n",
      "Epoch 50/50\n",
      "50/50 [==============================] - 0s 9ms/step - loss: 0.0019 - val_loss: 0.0013\n",
      "<class 'keras.engine.sequential.Sequential'>\n",
      "<class 'keras.callbacks.History'>\n",
      "<class 'dict'>\n"
     ]
    }
   ],
   "source": [
    "model = build_lstm_model(X_train, output_size=1, neurons=lstm_neurons, dropout=dropout, loss=loss,optimizer=optimizer)\n",
    "history = model.fit(X_train, y_train, validation_data=(X_test, y_test), epochs=epochs, batch_size=batch_size, verbose=1, shuffle=True)\n",
    "print(type(model))\n",
    "print(type(history))\n",
    "print(type(history.history))"
   ]
  },
  {
   "cell_type": "code",
   "execution_count": 58,
   "metadata": {},
   "outputs": [
    {
     "name": "stdout",
     "output_type": "stream",
     "text": [
      "<keras.callbacks.History object at 0x7f7252bcc2b0>\n"
     ]
    }
   ],
   "source": [
    "print(history)"
   ]
  },
  {
   "cell_type": "code",
   "execution_count": 59,
   "metadata": {},
   "outputs": [
    {
     "data": {
      "image/png": "[encoded data removed]",
      "text/plain": [
       "<Figure size 432x288 with 1 Axes>"
      ]
     },
     "metadata": {
      "needs_background": "light"
     },
     "output_type": "display_data"
    }
   ],
   "source": [
    "import matplotlib.pyplot as plt\n",
    "plt.plot(history.history['loss'],'r',linewidth=2, label='Train loss')\n",
    "plt.plot(history.history['val_loss'], 'g',linewidth=2, label='Validation loss')\n",
    "plt.title('LSTM')\n",
    "plt.xlabel('Epochs')\n",
    "plt.ylabel('MSE')\n",
    "plt.show()"
   ]
  },
  {
   "cell_type": "code",
   "execution_count": 60,
   "metadata": {},
   "outputs": [
    {
     "name": "stdout",
     "output_type": "stream",
     "text": [
      "7/7 [==============================] - 0s 3ms/step\n",
      "<class 'pandas.core.series.Series'>\n",
      "<class 'numpy.ndarray'>\n"
     ]
    },
    {
     "data": {
      "text/plain": [
       "0.026203666713667927"
      ]
     },
     "execution_count": 60,
     "metadata": {},
     "output_type": "execute_result"
    }
   ],
   "source": [
    "targets = test[target_col][window_len:]\n",
    "preds = model.predict(X_test).squeeze()\n",
    "mean_absolute_error(preds, y_test)\n",
    "print(type(targets))\n",
    "print(type(preds))\n",
    "mean_absolute_error(preds, y_test)"
   ]
  },
  {
   "cell_type": "code",
   "execution_count": 61,
   "metadata": {},
   "outputs": [
    {
     "data": {
      "text/plain": [
       "0.001265647520892475"
      ]
     },
     "execution_count": 61,
     "metadata": {},
     "output_type": "execute_result"
    }
   ],
   "source": [
    "from sklearn.metrics import mean_squared_error\n",
    "MAE=mean_squared_error(preds, y_test)\n",
    "MAE"
   ]
  },
  {
   "cell_type": "code",
   "execution_count": 62,
   "metadata": {},
   "outputs": [
    {
     "data": {
      "text/plain": [
       "0.7286110040016511"
      ]
     },
     "execution_count": 62,
     "metadata": {},
     "output_type": "execute_result"
    }
   ],
   "source": [
    "from sklearn.metrics import r2_score\n",
    "R2=r2_score(y_test, preds)\n",
    "R2"
   ]
  },
  {
   "cell_type": "code",
   "execution_count": 63,
   "metadata": {},
   "outputs": [
    {
     "data": {
      "image/png": "[encoded data removed]",
      "text/plain": [
       "<Figure size 936x504 with 1 Axes>"
      ]
     },
     "metadata": {
      "needs_background": "light"
     },
     "output_type": "display_data"
    }
   ],
   "source": [
    "preds = test[target_col].values[:-window_len] * (preds + 1)\n",
    "preds = pd.Series(index=targets.index, data=preds)\n",
    "line_plot(targets, preds, 'actual', 'prediction', lw=3)"
   ]
  },
  {
   "cell_type": "code",
   "execution_count": 64,
   "metadata": {},
   "outputs": [
    {
     "name": "stdout",
     "output_type": "stream",
     "text": [
      "hello\n"
     ]
    }
   ],
   "source": [
    "print(\"hello\")"
   ]
  },
  {
   "cell_type": "code",
   "execution_count": null,
   "metadata": {},
   "outputs": [],
   "source": []
  }
 ],
 "metadata": {
  "kernelspec": {
   "display_name": "Python 3",
   "language": "python",
   "name": "python3"
  },
  "language_info": {
   "codemirror_mode": {
    "name": "ipython",
    "version": 3
   },
   "file_extension": ".py",
   "mimetype": "text/x-python",
   "name": "python",
   "nbconvert_exporter": "python",
   "pygments_lexer": "ipython3",
   "version": "3.7.3"
  },
  "vscode": {
   "interpreter": {
    "hash": "110cc1dee26208153f2972f08a2ad52b6a56238dc66d48e87fb757ef2996db56"
   }
  }
 },
 "nbformat": 4,
 "nbformat_minor": 4
}
