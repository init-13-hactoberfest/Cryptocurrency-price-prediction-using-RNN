{
 "cells": [
  {
   "cell_type": "code",
   "execution_count": 1,
   "metadata": {},
   "outputs": [],
   "source": [
    "from ipywidgets import Layout, Button, Box, FloatText, Textarea, Dropdown, Label, IntSlider, interact\n",
    "from IPython.display import display\n",
    "from finalRun import finalOutput\n"
   ]
  },
  {
   "cell_type": "code",
   "execution_count": 2,
   "metadata": {},
   "outputs": [],
   "source": [
    "form_item_layout = Layout(\n",
    "    display='flex',\n",
    "    flex_flow='row',\n",
    "    justify_content='space-between'\n",
    ")"
   ]
  },
  {
   "cell_type": "code",
   "execution_count": 3,
   "metadata": {},
   "outputs": [],
   "source": [
    "Neurons = Box([Label(value='Neurons'), IntSlider(min=50, max=300, step=50)], layout=form_item_layout)\n",
    "\n",
    "Epoch = Box([Label(value='Epochs'), IntSlider(min=10, max=50, step=5)], layout=form_item_layout)\n",
    "\n",
    "Batchsize = Box([Label(value='Batch Size'), IntSlider(min=1, max=100)], layout=form_item_layout)\n",
    "\n",
    "Optimizer = Box([Label(value='Optimizer'),Dropdown(options=['Adadelta', 'Adagrad' ,'Adam' ,'Adamax' ,'Ftrl' ,'Nadam' ])], layout=form_item_layout)\n",
    "\n",
    "Lossfunction =  Box([Label(value='Loss Function'), Dropdown(options=['Mean Squared Error (MSE)', 'Mean Absolute Error (MAE)', 'Huber Loss'])], layout=form_item_layout)\n",
    "\n"
   ]
  },
  {
   "cell_type": "code",
   "execution_count": 4,
   "metadata": {},
   "outputs": [
    {
     "data": {
      "application/vnd.jupyter.widget-view+json": {
       "model_id": "903d7b7d7a794dd5b00210098dc8feb6",
       "version_major": 2,
       "version_minor": 0
      },
      "text/plain": [
       "Box(children=(Box(children=(Label(value='Neurons'), IntSlider(value=50, max=300, min=50, step=50)), layout=Lay…"
      ]
     },
     "metadata": {},
     "output_type": "display_data"
    }
   ],
   "source": [
    "\n",
    "\n",
    "\n",
    "form_items = [ Neurons, Epoch, Batchsize , Optimizer , Lossfunction]\n",
    "\n",
    "form = Box(form_items, layout=Layout(\n",
    "    display='flex',\n",
    "    flex_flow='column',\n",
    "    border='solid 2px',\n",
    "    align_items='stretch',\n",
    "    width='50%'\n",
    "))\n",
    "\n",
    "display(form)"
   ]
  },
  {
   "cell_type": "code",
   "execution_count": 5,
   "metadata": {},
   "outputs": [],
   "source": [
    "Neurons = IntSlider(min=50, max=300, step=50,description = \"Neurons\")\n",
    "\n",
    "Epoch =  IntSlider(min=10, max=50, step=5,description = \"Epoch\")\n",
    "\n",
    "Batchsize = IntSlider(min=1, max=100,description = \"Batch Size\")\n",
    "\n",
    "Optimizer =Dropdown(options=['Adadelta', 'Adagrad' ,'Adam' ,'Adamax' ,'Ftrl' ,'Nadam' ], description = \"Optimizer\")\n",
    "\n",
    "Lossfunction =  Dropdown(options=['Mean Squared Error (MSE)', 'Mean Absolute Error (MAE)', 'Huber Loss'], description = \"Loss Function\")\n",
    "\n"
   ]
  },
  {
   "cell_type": "code",
   "execution_count": 6,
   "metadata": {},
   "outputs": [
    {
     "data": {
      "application/vnd.jupyter.widget-view+json": {
       "model_id": "229d986e275d4ddeaa85af0d4de0c54c",
       "version_major": 2,
       "version_minor": 0
      },
      "text/plain": [
       "interactive(children=(IntSlider(value=5, description='window_len', max=15, min=-5), FloatSlider(value=0.1, des…"
      ]
     },
     "metadata": {},
     "output_type": "display_data"
    }
   ],
   "source": [
    "interact(finalOutput,lstm_neurons = Neurons, epochs = Epoch , batch_size = Batchsize , loss = Lossfunction , optimizer = Optimizer );"
   ]
  },
  {
   "cell_type": "code",
   "execution_count": 7,
   "metadata": {},
   "outputs": [
    {
     "name": "stdout",
     "output_type": "stream",
     "text": [
      "300 50 36 mse adam\n"
     ]
    }
   ],
   "source": [
    "finalOutput()\n"
   ]
  },
  {
   "cell_type": "code",
   "execution_count": null,
   "metadata": {},
   "outputs": [],
   "source": []
  }
 ],
 "metadata": {
  "kernelspec": {
   "display_name": "Python 3",
   "language": "python",
   "name": "python3"
  },
  "language_info": {
   "codemirror_mode": {
    "name": "ipython",
    "version": 3
   },
   "file_extension": ".py",
   "mimetype": "text/x-python",
   "name": "python",
   "nbconvert_exporter": "python",
   "pygments_lexer": "ipython3",
   "version": "3.7.3"
  }
 },
 "nbformat": 4,
 "nbformat_minor": 4
}
