{
 "cells": [
  {
   "cell_type": "code",
   "execution_count": 1,
   "metadata": {},
   "outputs": [
    {
     "name": "stderr",
     "output_type": "stream",
     "text": [
      "2022-06-02 12:18:58.476511: W tensorflow/stream_executor/platform/default/dso_loader.cc:64] Could not load dynamic library 'libcudart.so.11.0'; dlerror: libcudart.so.11.0: cannot open shared object file: No such file or directory\n",
      "2022-06-02 12:18:58.476548: I tensorflow/stream_executor/cuda/cudart_stub.cc:29] Ignore above cudart dlerror if you do not have a GPU set up on your machine.\n"
     ]
    }
   ],
   "source": [
    "from ipywidgets import Layout, Button, Box, FloatText, Textarea, Dropdown, Label, IntSlider, interact, fixed\n",
    "from IPython.display import display\n",
    "from finalRun import finalOutput\n"
   ]
  },
  {
   "cell_type": "code",
   "execution_count": 2,
   "metadata": {},
   "outputs": [],
   "source": [
    "form_item_layout = Layout(\n",
    "    display='flex',\n",
    "    flex_flow='row',\n",
    "    justify_content='space-between'\n",
    ")"
   ]
  },
  {
   "cell_type": "code",
   "execution_count": 3,
   "metadata": {},
   "outputs": [],
   "source": [
    "Neurons = Box([Label(value='Neurons'), IntSlider(min=50, max=300, step=50)], layout=form_item_layout)\n",
    "\n",
    "Epoch = Box([Label(value='Epochs'), IntSlider(min=10, max=50, step=5)], layout=form_item_layout)\n",
    "\n",
    "Batchsize = Box([Label(value='Batch Size'), IntSlider(min=1, max=100)], layout=form_item_layout)\n",
    "\n",
    "Optimizer = Box([Label(value='Optimizer'),Dropdown(options=['Adadelta', 'Adagrad' ,'Adam' ,'Adamax' ,'Ftrl' ,'Nadam' ])], layout=form_item_layout)\n",
    "\n",
    "Lossfunction =  Box([Label(value='Loss Function'), Dropdown(options=['Mean Squared Error (MSE)', 'Mean Absolute Error (MAE)', 'Huber Loss'])], layout=form_item_layout)\n",
    "\n"
   ]
  },
  {
   "cell_type": "code",
   "execution_count": 4,
   "metadata": {},
   "outputs": [
    {
     "data": {
      "application/vnd.jupyter.widget-view+json": {
       "model_id": "8d63dbaa84554e2aa210cf077449d466",
       "version_major": 2,
       "version_minor": 0
      },
      "text/plain": [
       "Box(children=(Box(children=(Label(value='Neurons'), IntSlider(value=50, max=300, min=50, step=50)), layout=Lay…"
      ]
     },
     "metadata": {},
     "output_type": "display_data"
    }
   ],
   "source": [
    "\n",
    "\n",
    "\n",
    "form_items = [ Neurons, Epoch, Batchsize , Optimizer , Lossfunction]\n",
    "\n",
    "form = Box(form_items, layout=Layout(\n",
    "    display='flex',\n",
    "    flex_flow='column',\n",
    "    border='solid 2px',\n",
    "    align_items='stretch',\n",
    "    width='50%'\n",
    "))\n",
    "\n",
    "display(form)"
   ]
  },
  {
   "cell_type": "code",
   "execution_count": 5,
   "metadata": {},
   "outputs": [],
   "source": [
    "Neurons = IntSlider(min=50, max=300, step=50,description = \"Neurons\")\n",
    "\n",
    "Epoch =  IntSlider(min=10, max=50, step=5,description = \"Epoch\")\n",
    "\n",
    "Batchsize = IntSlider(min=1, max=100,description = \"Batch Size\",value=40)\n",
    "\n",
    "Optimizer =Dropdown(options=['Adadelta', 'Adagrad' ,'Adam' ,'Adamax' ,'Ftrl' ,'Nadam' ], description = \"Optimizer\")\n",
    "\n",
    "Lossfunction =  Dropdown(options=['Mean Squared Error (MSE)', 'Mean Absolute Error (MAE)', 'Hinge Loss', \"Binary Cross Entropy\"], description = \"Loss Function\")\n",
    "\n"
   ]
  },
  {
   "cell_type": "code",
   "execution_count": 6,
   "metadata": {},
   "outputs": [
    {
     "data": {
      "application/vnd.jupyter.widget-view+json": {
       "model_id": "0325519ce6804497af0443a62239ef1a",
       "version_major": 2,
       "version_minor": 0
      },
      "text/plain": [
       "interactive(children=(IntSlider(value=50, description='Neurons', max=300, min=50, step=50), IntSlider(value=10…"
      ]
     },
     "metadata": {},
     "output_type": "display_data"
    }
   ],
   "source": [
    "interact(finalOutput,lstm_neurons = Neurons, epochs = Epoch , batch_size = Batchsize , loss = Lossfunction , optimizer = Optimizer , window_len=fixed(5), test_size=fixed(0.1), zero_base=fixed(True), dropout=fixed(0.2));"
   ]
  },
  {
   "cell_type": "code",
   "execution_count": null,
   "metadata": {},
   "outputs": [],
   "source": []
  },
  {
   "cell_type": "code",
   "execution_count": null,
   "metadata": {},
   "outputs": [],
   "source": []
  }
 ],
 "metadata": {
  "kernelspec": {
   "display_name": "Python 3 (ipykernel)",
   "language": "python",
   "name": "python3"
  },
  "language_info": {
   "codemirror_mode": {
    "name": "ipython",
    "version": 3
   },
   "file_extension": ".py",
   "mimetype": "text/x-python",
   "name": "python",
   "nbconvert_exporter": "python",
   "pygments_lexer": "ipython3",
   "version": "3.8.13"
  }
 },
 "nbformat": 4,
 "nbformat_minor": 4
}
