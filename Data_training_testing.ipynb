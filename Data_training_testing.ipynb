{
 "cells": [
  {
   "cell_type": "code",
   "execution_count": 1,
   "metadata": {},
   "outputs": [],
   "source": [
    "#tensorflow_version 2.x\n",
    "import json\n",
    "import requests\n",
    "from keras.models import Sequential\n",
    "from keras.layers import Activation, Dense, Dropout, LSTM\n",
    "import matplotlib.pyplot as plt\n",
    "import numpy as np\n",
    "import pandas as pd\n",
    "import seaborn as sns\n",
    "from sklearn.metrics import mean_absolute_error\n",
    "#matplotlib inline"
   ]
  },
  {
   "cell_type": "code",
   "execution_count": 2,
   "metadata": {},
   "outputs": [],
   "source": [
    "endpoint = 'https://min-api.cryptocompare.com/data/histoday'\n",
    "res = requests.get(endpoint + '?fsym=BTC&tsym=CAD&limit=500')\n",
    "hist = pd.DataFrame(json.loads(res.content)['Data'])\n",
    "hist = hist.set_index('time')\n",
    "hist.index = pd.to_datetime(hist.index, unit='s')\n",
    "target_col = 'close'\n"
   ]
  },
  {
   "cell_type": "code",
   "execution_count": 3,
   "metadata": {},
   "outputs": [
    {
     "name": "stdout",
     "output_type": "stream",
     "text": [
      "                high       low      open  volumefrom    volumeto     close  \\\n",
      "time                                                                         \n",
      "2020-12-08  24707.49  23425.28  24626.17      102.86  2479400.96  23626.47   \n",
      "2020-12-09  23982.97  22764.23  23626.47      145.18  3417104.26  23932.51   \n",
      "2020-12-10  23932.51  22812.36  23932.51      138.09  3238904.37  23355.09   \n",
      "2020-12-11  23396.16  22588.52  23355.09       79.81  1830605.31  23081.68   \n",
      "2020-12-12  24281.12  23081.68  23081.68       40.93   973072.53  24155.59   \n",
      "...              ...       ...       ...         ...         ...       ...   \n",
      "2022-04-18  51662.93  48601.04  49966.46       64.73  3232703.51  51284.40   \n",
      "2022-04-19  52508.03  50856.11  51284.40       80.09  4136822.73  52224.65   \n",
      "2022-04-20  52784.10  51120.99  52224.65       65.68  3410542.93  51679.82   \n",
      "2022-04-21  53578.29  50081.09  51679.82      108.57  5651787.23  50956.68   \n",
      "2022-04-22  51381.47  50710.33  50956.68       31.09  1588420.16  51087.89   \n",
      "\n",
      "           conversionType conversionSymbol  \n",
      "time                                        \n",
      "2020-12-08         direct                   \n",
      "2020-12-09         direct                   \n",
      "2020-12-10         direct                   \n",
      "2020-12-11         direct                   \n",
      "2020-12-12         direct                   \n",
      "...                   ...              ...  \n",
      "2022-04-18         direct                   \n",
      "2022-04-19         direct                   \n",
      "2022-04-20         direct                   \n",
      "2022-04-21         direct                   \n",
      "2022-04-22         direct                   \n",
      "\n",
      "[501 rows x 8 columns]\n"
     ]
    }
   ],
   "source": [
    "print(hist)\n"
   ]
  },
  {
   "cell_type": "code",
   "execution_count": 4,
   "metadata": {},
   "outputs": [],
   "source": [
    "hist.drop([\"conversionType\", \"conversionSymbol\"], axis = 'columns', inplace = True)"
   ]
  },
  {
   "cell_type": "code",
   "execution_count": 5,
   "metadata": {},
   "outputs": [
    {
     "data": {
      "text/html": [
       "<div>\n",
       "<style scoped>\n",
       "    .dataframe tbody tr th:only-of-type {\n",
       "        vertical-align: middle;\n",
       "    }\n",
       "\n",
       "    .dataframe tbody tr th {\n",
       "        vertical-align: top;\n",
       "    }\n",
       "\n",
       "    .dataframe thead th {\n",
       "        text-align: right;\n",
       "    }\n",
       "</style>\n",
       "<table border=\"1\" class=\"dataframe\">\n",
       "  <thead>\n",
       "    <tr style=\"text-align: right;\">\n",
       "      <th></th>\n",
       "      <th>high</th>\n",
       "      <th>low</th>\n",
       "      <th>open</th>\n",
       "      <th>volumefrom</th>\n",
       "      <th>volumeto</th>\n",
       "      <th>close</th>\n",
       "    </tr>\n",
       "    <tr>\n",
       "      <th>time</th>\n",
       "      <th></th>\n",
       "      <th></th>\n",
       "      <th></th>\n",
       "      <th></th>\n",
       "      <th></th>\n",
       "      <th></th>\n",
       "    </tr>\n",
       "  </thead>\n",
       "  <tbody>\n",
       "    <tr>\n",
       "      <th>2020-12-08</th>\n",
       "      <td>24707.49</td>\n",
       "      <td>23425.28</td>\n",
       "      <td>24626.17</td>\n",
       "      <td>102.86</td>\n",
       "      <td>2479400.96</td>\n",
       "      <td>23626.47</td>\n",
       "    </tr>\n",
       "    <tr>\n",
       "      <th>2020-12-09</th>\n",
       "      <td>23982.97</td>\n",
       "      <td>22764.23</td>\n",
       "      <td>23626.47</td>\n",
       "      <td>145.18</td>\n",
       "      <td>3417104.26</td>\n",
       "      <td>23932.51</td>\n",
       "    </tr>\n",
       "    <tr>\n",
       "      <th>2020-12-10</th>\n",
       "      <td>23932.51</td>\n",
       "      <td>22812.36</td>\n",
       "      <td>23932.51</td>\n",
       "      <td>138.09</td>\n",
       "      <td>3238904.37</td>\n",
       "      <td>23355.09</td>\n",
       "    </tr>\n",
       "    <tr>\n",
       "      <th>2020-12-11</th>\n",
       "      <td>23396.16</td>\n",
       "      <td>22588.52</td>\n",
       "      <td>23355.09</td>\n",
       "      <td>79.81</td>\n",
       "      <td>1830605.31</td>\n",
       "      <td>23081.68</td>\n",
       "    </tr>\n",
       "    <tr>\n",
       "      <th>2020-12-12</th>\n",
       "      <td>24281.12</td>\n",
       "      <td>23081.68</td>\n",
       "      <td>23081.68</td>\n",
       "      <td>40.93</td>\n",
       "      <td>973072.53</td>\n",
       "      <td>24155.59</td>\n",
       "    </tr>\n",
       "    <tr>\n",
       "      <th>...</th>\n",
       "      <td>...</td>\n",
       "      <td>...</td>\n",
       "      <td>...</td>\n",
       "      <td>...</td>\n",
       "      <td>...</td>\n",
       "      <td>...</td>\n",
       "    </tr>\n",
       "    <tr>\n",
       "      <th>2022-04-18</th>\n",
       "      <td>51662.93</td>\n",
       "      <td>48601.04</td>\n",
       "      <td>49966.46</td>\n",
       "      <td>64.73</td>\n",
       "      <td>3232703.51</td>\n",
       "      <td>51284.40</td>\n",
       "    </tr>\n",
       "    <tr>\n",
       "      <th>2022-04-19</th>\n",
       "      <td>52508.03</td>\n",
       "      <td>50856.11</td>\n",
       "      <td>51284.40</td>\n",
       "      <td>80.09</td>\n",
       "      <td>4136822.73</td>\n",
       "      <td>52224.65</td>\n",
       "    </tr>\n",
       "    <tr>\n",
       "      <th>2022-04-20</th>\n",
       "      <td>52784.10</td>\n",
       "      <td>51120.99</td>\n",
       "      <td>52224.65</td>\n",
       "      <td>65.68</td>\n",
       "      <td>3410542.93</td>\n",
       "      <td>51679.82</td>\n",
       "    </tr>\n",
       "    <tr>\n",
       "      <th>2022-04-21</th>\n",
       "      <td>53578.29</td>\n",
       "      <td>50081.09</td>\n",
       "      <td>51679.82</td>\n",
       "      <td>108.57</td>\n",
       "      <td>5651787.23</td>\n",
       "      <td>50956.68</td>\n",
       "    </tr>\n",
       "    <tr>\n",
       "      <th>2022-04-22</th>\n",
       "      <td>51381.47</td>\n",
       "      <td>50710.33</td>\n",
       "      <td>50956.68</td>\n",
       "      <td>31.09</td>\n",
       "      <td>1588420.16</td>\n",
       "      <td>51087.89</td>\n",
       "    </tr>\n",
       "  </tbody>\n",
       "</table>\n",
       "<p>501 rows × 6 columns</p>\n",
       "</div>"
      ],
      "text/plain": [
       "                high       low      open  volumefrom    volumeto     close\n",
       "time                                                                      \n",
       "2020-12-08  24707.49  23425.28  24626.17      102.86  2479400.96  23626.47\n",
       "2020-12-09  23982.97  22764.23  23626.47      145.18  3417104.26  23932.51\n",
       "2020-12-10  23932.51  22812.36  23932.51      138.09  3238904.37  23355.09\n",
       "2020-12-11  23396.16  22588.52  23355.09       79.81  1830605.31  23081.68\n",
       "2020-12-12  24281.12  23081.68  23081.68       40.93   973072.53  24155.59\n",
       "...              ...       ...       ...         ...         ...       ...\n",
       "2022-04-18  51662.93  48601.04  49966.46       64.73  3232703.51  51284.40\n",
       "2022-04-19  52508.03  50856.11  51284.40       80.09  4136822.73  52224.65\n",
       "2022-04-20  52784.10  51120.99  52224.65       65.68  3410542.93  51679.82\n",
       "2022-04-21  53578.29  50081.09  51679.82      108.57  5651787.23  50956.68\n",
       "2022-04-22  51381.47  50710.33  50956.68       31.09  1588420.16  51087.89\n",
       "\n",
       "[501 rows x 6 columns]"
      ]
     },
     "execution_count": 5,
     "metadata": {},
     "output_type": "execute_result"
    }
   ],
   "source": [
    "hist"
   ]
  },
  {
   "cell_type": "code",
   "execution_count": 6,
   "metadata": {},
   "outputs": [],
   "source": [
    "def train_test_split(df, test_size=0.2):\n",
    "    split_row = len(df) - int(test_size * len(df))\n",
    "    train_data = df.iloc[:split_row]\n",
    "    test_data = df.iloc[split_row:]\n",
    "    return train_data, test_data"
   ]
  },
  {
   "cell_type": "code",
   "execution_count": 7,
   "metadata": {},
   "outputs": [],
   "source": [
    "train, test = train_test_split(hist, test_size=0.2)"
   ]
  },
  {
   "cell_type": "code",
   "execution_count": 8,
   "metadata": {},
   "outputs": [
    {
     "data": {
      "text/html": [
       "<div>\n",
       "<style scoped>\n",
       "    .dataframe tbody tr th:only-of-type {\n",
       "        vertical-align: middle;\n",
       "    }\n",
       "\n",
       "    .dataframe tbody tr th {\n",
       "        vertical-align: top;\n",
       "    }\n",
       "\n",
       "    .dataframe thead th {\n",
       "        text-align: right;\n",
       "    }\n",
       "</style>\n",
       "<table border=\"1\" class=\"dataframe\">\n",
       "  <thead>\n",
       "    <tr style=\"text-align: right;\">\n",
       "      <th></th>\n",
       "      <th>high</th>\n",
       "      <th>low</th>\n",
       "      <th>open</th>\n",
       "      <th>volumefrom</th>\n",
       "      <th>volumeto</th>\n",
       "      <th>close</th>\n",
       "    </tr>\n",
       "    <tr>\n",
       "      <th>time</th>\n",
       "      <th></th>\n",
       "      <th></th>\n",
       "      <th></th>\n",
       "      <th></th>\n",
       "      <th></th>\n",
       "      <th></th>\n",
       "    </tr>\n",
       "  </thead>\n",
       "  <tbody>\n",
       "    <tr>\n",
       "      <th>2020-12-08</th>\n",
       "      <td>24707.49</td>\n",
       "      <td>23425.28</td>\n",
       "      <td>24626.17</td>\n",
       "      <td>102.86</td>\n",
       "      <td>2479400.96</td>\n",
       "      <td>23626.47</td>\n",
       "    </tr>\n",
       "    <tr>\n",
       "      <th>2020-12-09</th>\n",
       "      <td>23982.97</td>\n",
       "      <td>22764.23</td>\n",
       "      <td>23626.47</td>\n",
       "      <td>145.18</td>\n",
       "      <td>3417104.26</td>\n",
       "      <td>23932.51</td>\n",
       "    </tr>\n",
       "    <tr>\n",
       "      <th>2020-12-10</th>\n",
       "      <td>23932.51</td>\n",
       "      <td>22812.36</td>\n",
       "      <td>23932.51</td>\n",
       "      <td>138.09</td>\n",
       "      <td>3238904.37</td>\n",
       "      <td>23355.09</td>\n",
       "    </tr>\n",
       "    <tr>\n",
       "      <th>2020-12-11</th>\n",
       "      <td>23396.16</td>\n",
       "      <td>22588.52</td>\n",
       "      <td>23355.09</td>\n",
       "      <td>79.81</td>\n",
       "      <td>1830605.31</td>\n",
       "      <td>23081.68</td>\n",
       "    </tr>\n",
       "    <tr>\n",
       "      <th>2020-12-12</th>\n",
       "      <td>24281.12</td>\n",
       "      <td>23081.68</td>\n",
       "      <td>23081.68</td>\n",
       "      <td>40.93</td>\n",
       "      <td>973072.53</td>\n",
       "      <td>24155.59</td>\n",
       "    </tr>\n",
       "    <tr>\n",
       "      <th>...</th>\n",
       "      <td>...</td>\n",
       "      <td>...</td>\n",
       "      <td>...</td>\n",
       "      <td>...</td>\n",
       "      <td>...</td>\n",
       "      <td>...</td>\n",
       "    </tr>\n",
       "    <tr>\n",
       "      <th>2022-01-08</th>\n",
       "      <td>53306.71</td>\n",
       "      <td>50928.89</td>\n",
       "      <td>52455.50</td>\n",
       "      <td>78.60</td>\n",
       "      <td>4096787.58</td>\n",
       "      <td>52481.24</td>\n",
       "    </tr>\n",
       "    <tr>\n",
       "      <th>2022-01-09</th>\n",
       "      <td>53553.83</td>\n",
       "      <td>51604.65</td>\n",
       "      <td>52481.24</td>\n",
       "      <td>61.74</td>\n",
       "      <td>3237479.61</td>\n",
       "      <td>52683.40</td>\n",
       "    </tr>\n",
       "    <tr>\n",
       "      <th>2022-01-10</th>\n",
       "      <td>53163.92</td>\n",
       "      <td>50048.73</td>\n",
       "      <td>52683.40</td>\n",
       "      <td>101.34</td>\n",
       "      <td>5287369.14</td>\n",
       "      <td>52835.75</td>\n",
       "    </tr>\n",
       "    <tr>\n",
       "      <th>2022-01-11</th>\n",
       "      <td>54279.77</td>\n",
       "      <td>52229.17</td>\n",
       "      <td>52835.75</td>\n",
       "      <td>51.24</td>\n",
       "      <td>2725851.54</td>\n",
       "      <td>53744.56</td>\n",
       "    </tr>\n",
       "    <tr>\n",
       "      <th>2022-01-12</th>\n",
       "      <td>55421.20</td>\n",
       "      <td>53341.77</td>\n",
       "      <td>53744.56</td>\n",
       "      <td>65.72</td>\n",
       "      <td>3578758.46</td>\n",
       "      <td>54975.38</td>\n",
       "    </tr>\n",
       "  </tbody>\n",
       "</table>\n",
       "<p>401 rows × 6 columns</p>\n",
       "</div>"
      ],
      "text/plain": [
       "                high       low      open  volumefrom    volumeto     close\n",
       "time                                                                      \n",
       "2020-12-08  24707.49  23425.28  24626.17      102.86  2479400.96  23626.47\n",
       "2020-12-09  23982.97  22764.23  23626.47      145.18  3417104.26  23932.51\n",
       "2020-12-10  23932.51  22812.36  23932.51      138.09  3238904.37  23355.09\n",
       "2020-12-11  23396.16  22588.52  23355.09       79.81  1830605.31  23081.68\n",
       "2020-12-12  24281.12  23081.68  23081.68       40.93   973072.53  24155.59\n",
       "...              ...       ...       ...         ...         ...       ...\n",
       "2022-01-08  53306.71  50928.89  52455.50       78.60  4096787.58  52481.24\n",
       "2022-01-09  53553.83  51604.65  52481.24       61.74  3237479.61  52683.40\n",
       "2022-01-10  53163.92  50048.73  52683.40      101.34  5287369.14  52835.75\n",
       "2022-01-11  54279.77  52229.17  52835.75       51.24  2725851.54  53744.56\n",
       "2022-01-12  55421.20  53341.77  53744.56       65.72  3578758.46  54975.38\n",
       "\n",
       "[401 rows x 6 columns]"
      ]
     },
     "execution_count": 8,
     "metadata": {},
     "output_type": "execute_result"
    }
   ],
   "source": [
    "train"
   ]
  },
  {
   "cell_type": "code",
   "execution_count": 9,
   "metadata": {},
   "outputs": [
    {
     "data": {
      "text/html": [
       "<div>\n",
       "<style scoped>\n",
       "    .dataframe tbody tr th:only-of-type {\n",
       "        vertical-align: middle;\n",
       "    }\n",
       "\n",
       "    .dataframe tbody tr th {\n",
       "        vertical-align: top;\n",
       "    }\n",
       "\n",
       "    .dataframe thead th {\n",
       "        text-align: right;\n",
       "    }\n",
       "</style>\n",
       "<table border=\"1\" class=\"dataframe\">\n",
       "  <thead>\n",
       "    <tr style=\"text-align: right;\">\n",
       "      <th></th>\n",
       "      <th>high</th>\n",
       "      <th>low</th>\n",
       "      <th>open</th>\n",
       "      <th>volumefrom</th>\n",
       "      <th>volumeto</th>\n",
       "      <th>close</th>\n",
       "    </tr>\n",
       "    <tr>\n",
       "      <th>time</th>\n",
       "      <th></th>\n",
       "      <th></th>\n",
       "      <th></th>\n",
       "      <th></th>\n",
       "      <th></th>\n",
       "      <th></th>\n",
       "    </tr>\n",
       "  </thead>\n",
       "  <tbody>\n",
       "    <tr>\n",
       "      <th>2022-01-13</th>\n",
       "      <td>55393.87</td>\n",
       "      <td>52902.79</td>\n",
       "      <td>54975.38</td>\n",
       "      <td>55.65</td>\n",
       "      <td>3010472.71</td>\n",
       "      <td>53220.50</td>\n",
       "    </tr>\n",
       "    <tr>\n",
       "      <th>2022-01-14</th>\n",
       "      <td>54495.61</td>\n",
       "      <td>52296.47</td>\n",
       "      <td>53220.50</td>\n",
       "      <td>45.39</td>\n",
       "      <td>2432183.00</td>\n",
       "      <td>54098.95</td>\n",
       "    </tr>\n",
       "    <tr>\n",
       "      <th>2022-01-15</th>\n",
       "      <td>54946.80</td>\n",
       "      <td>53484.10</td>\n",
       "      <td>54098.95</td>\n",
       "      <td>22.50</td>\n",
       "      <td>1219528.13</td>\n",
       "      <td>54164.62</td>\n",
       "    </tr>\n",
       "    <tr>\n",
       "      <th>2022-01-16</th>\n",
       "      <td>54665.77</td>\n",
       "      <td>51808.75</td>\n",
       "      <td>54258.74</td>\n",
       "      <td>764.94</td>\n",
       "      <td>41432379.49</td>\n",
       "      <td>54164.22</td>\n",
       "    </tr>\n",
       "    <tr>\n",
       "      <th>2022-01-17</th>\n",
       "      <td>54169.58</td>\n",
       "      <td>52061.94</td>\n",
       "      <td>54088.55</td>\n",
       "      <td>39.97</td>\n",
       "      <td>2122868.43</td>\n",
       "      <td>52879.21</td>\n",
       "    </tr>\n",
       "    <tr>\n",
       "      <th>...</th>\n",
       "      <td>...</td>\n",
       "      <td>...</td>\n",
       "      <td>...</td>\n",
       "      <td>...</td>\n",
       "      <td>...</td>\n",
       "      <td>...</td>\n",
       "    </tr>\n",
       "    <tr>\n",
       "      <th>2022-04-18</th>\n",
       "      <td>51662.93</td>\n",
       "      <td>48601.04</td>\n",
       "      <td>49966.46</td>\n",
       "      <td>64.73</td>\n",
       "      <td>3232703.51</td>\n",
       "      <td>51284.40</td>\n",
       "    </tr>\n",
       "    <tr>\n",
       "      <th>2022-04-19</th>\n",
       "      <td>52508.03</td>\n",
       "      <td>50856.11</td>\n",
       "      <td>51284.40</td>\n",
       "      <td>80.09</td>\n",
       "      <td>4136822.73</td>\n",
       "      <td>52224.65</td>\n",
       "    </tr>\n",
       "    <tr>\n",
       "      <th>2022-04-20</th>\n",
       "      <td>52784.10</td>\n",
       "      <td>51120.99</td>\n",
       "      <td>52224.65</td>\n",
       "      <td>65.68</td>\n",
       "      <td>3410542.93</td>\n",
       "      <td>51679.82</td>\n",
       "    </tr>\n",
       "    <tr>\n",
       "      <th>2022-04-21</th>\n",
       "      <td>53578.29</td>\n",
       "      <td>50081.09</td>\n",
       "      <td>51679.82</td>\n",
       "      <td>108.57</td>\n",
       "      <td>5651787.23</td>\n",
       "      <td>50956.68</td>\n",
       "    </tr>\n",
       "    <tr>\n",
       "      <th>2022-04-22</th>\n",
       "      <td>51381.47</td>\n",
       "      <td>50710.33</td>\n",
       "      <td>50956.68</td>\n",
       "      <td>31.09</td>\n",
       "      <td>1588420.16</td>\n",
       "      <td>51087.89</td>\n",
       "    </tr>\n",
       "  </tbody>\n",
       "</table>\n",
       "<p>100 rows × 6 columns</p>\n",
       "</div>"
      ],
      "text/plain": [
       "                high       low      open  volumefrom     volumeto     close\n",
       "time                                                                       \n",
       "2022-01-13  55393.87  52902.79  54975.38       55.65   3010472.71  53220.50\n",
       "2022-01-14  54495.61  52296.47  53220.50       45.39   2432183.00  54098.95\n",
       "2022-01-15  54946.80  53484.10  54098.95       22.50   1219528.13  54164.62\n",
       "2022-01-16  54665.77  51808.75  54258.74      764.94  41432379.49  54164.22\n",
       "2022-01-17  54169.58  52061.94  54088.55       39.97   2122868.43  52879.21\n",
       "...              ...       ...       ...         ...          ...       ...\n",
       "2022-04-18  51662.93  48601.04  49966.46       64.73   3232703.51  51284.40\n",
       "2022-04-19  52508.03  50856.11  51284.40       80.09   4136822.73  52224.65\n",
       "2022-04-20  52784.10  51120.99  52224.65       65.68   3410542.93  51679.82\n",
       "2022-04-21  53578.29  50081.09  51679.82      108.57   5651787.23  50956.68\n",
       "2022-04-22  51381.47  50710.33  50956.68       31.09   1588420.16  51087.89\n",
       "\n",
       "[100 rows x 6 columns]"
      ]
     },
     "execution_count": 9,
     "metadata": {},
     "output_type": "execute_result"
    }
   ],
   "source": [
    "test"
   ]
  },
  {
   "cell_type": "code",
   "execution_count": 10,
   "metadata": {},
   "outputs": [],
   "source": [
    "def line_plot(line1, line2, label1=None, label2=None, title='', lw=2):\n",
    "    fig, ax = plt.subplots(1, figsize=(13, 7))\n",
    "    ax.plot(line1, label=label1, linewidth=lw)\n",
    "    ax.plot(line2, label=label2, linewidth=lw)\n",
    "    ax.set_ylabel('price [CAD]', fontsize=14)\n",
    "    ax.set_title(title, fontsize=16)\n",
    "    ax.legend(loc='best', fontsize=16);"
   ]
  },
  {
   "cell_type": "code",
   "execution_count": 11,
   "metadata": {},
   "outputs": [
    {
     "data": {
      "image/png": "[encoded data removed]",
      "text/plain": [
       "<Figure size 936x504 with 1 Axes>"
      ]
     },
     "metadata": {
      "needs_background": "light"
     },
     "output_type": "display_data"
    }
   ],
   "source": [
    "line_plot(train[target_col], test[target_col], 'training', 'test', title='')"
   ]
  },
  {
   "cell_type": "code",
   "execution_count": 12,
   "metadata": {},
   "outputs": [],
   "source": [
    "def normalise_zero_base(df):\n",
    "    return df / df.iloc[0] - 1\n",
    "\n",
    "def normalise_min_max(df):\n",
    "    return (df - df.min()) / (data.max() - df.min())"
   ]
  },
  {
   "cell_type": "code",
   "execution_count": 13,
   "metadata": {},
   "outputs": [],
   "source": [
    "def extract_window_data(df, window_len=5, zero_base=True):\n",
    "    window_data = []\n",
    "    for idx in range(len(df) - window_len):\n",
    "        tmp = df[idx: (idx + window_len)].copy()\n",
    "        if zero_base:\n",
    "            tmp = normalise_zero_base(tmp)\n",
    "        window_data.append(tmp.values)\n",
    "    return np.array(window_data)"
   ]
  },
  {
   "cell_type": "code",
   "execution_count": null,
   "metadata": {},
   "outputs": [],
   "source": []
  },
  {
   "cell_type": "code",
   "execution_count": 14,
   "metadata": {},
   "outputs": [],
   "source": [
    "def prepare_data(df, target_col, window_len=10, zero_base=True, test_size=0.2):\n",
    "    train_data, test_data = train_test_split(df, test_size=test_size)\n",
    "    X_train = extract_window_data(train_data, window_len, zero_base)\n",
    "    X_test = extract_window_data(test_data, window_len, zero_base)\n",
    "    y_train = train_data[target_col][window_len:].values\n",
    "    y_test = test_data[target_col][window_len:].values\n",
    "    if zero_base:\n",
    "        y_train = y_train / train_data[target_col][:-window_len].values - 1\n",
    "        y_test = y_test / test_data[target_col][:-window_len].values - 1\n",
    "\n",
    "    return train_data, test_data, X_train, X_test, y_train, y_test"
   ]
  },
  {
   "cell_type": "code",
   "execution_count": 15,
   "metadata": {},
   "outputs": [],
   "source": [
    "def build_lstm_model(input_data, output_size, neurons=100, activ_func='linear',\n",
    "                     dropout=0.2, loss='mse', optimizer='adam'):\n",
    "    model = Sequential()\n",
    "    model.add(LSTM(neurons, input_shape=(input_data.shape[1], input_data.shape[2])))\n",
    "    model.add(Dropout(dropout))\n",
    "    model.add(Dense(units=output_size))\n",
    "    model.add(Activation(activ_func))\n",
    "\n",
    "    model.compile(loss=loss, optimizer=optimizer)\n",
    "    return model"
   ]
  },
  {
   "cell_type": "code",
   "execution_count": 32,
   "metadata": {},
   "outputs": [],
   "source": [
    "np.random.seed(42)\n",
    "window_len = 5\n",
    "test_size = 0.2\n",
    "zero_base = True\n",
    "lstm_neurons = 200\n",
    "epochs = 25\n",
    "batch_size = 36\n",
    "loss = 'mse'\n",
    "dropout = 0.2\n",
    "optimizer = 'adam'"
   ]
  },
  {
   "cell_type": "code",
   "execution_count": 33,
   "metadata": {},
   "outputs": [],
   "source": [
    "train, test, X_train, X_test, y_train, y_test = prepare_data(hist, target_col, window_len=window_len, zero_base=zero_base, test_size=test_size)"
   ]
  },
  {
   "cell_type": "code",
   "execution_count": 38,
   "metadata": {},
   "outputs": [
    {
     "name": "stdout",
     "output_type": "stream",
     "text": [
      "Epoch 1/25\n",
      "11/11 [==============================] - 2s 45ms/step - loss: 0.0113 - val_loss: 0.0043\n",
      "Epoch 2/25\n",
      "11/11 [==============================] - 0s 9ms/step - loss: 0.0059 - val_loss: 0.0047\n",
      "Epoch 3/25\n",
      "11/11 [==============================] - 0s 10ms/step - loss: 0.0087 - val_loss: 0.0095\n",
      "Epoch 4/25\n",
      "11/11 [==============================] - 0s 9ms/step - loss: 0.0127 - val_loss: 0.0062\n",
      "Epoch 5/25\n",
      "11/11 [==============================] - 0s 10ms/step - loss: 0.0098 - val_loss: 0.0036\n",
      "Epoch 6/25\n",
      "11/11 [==============================] - 0s 9ms/step - loss: 0.0077 - val_loss: 0.0041\n",
      "Epoch 7/25\n",
      "11/11 [==============================] - 0s 10ms/step - loss: 0.0039 - val_loss: 0.0027\n",
      "Epoch 8/25\n",
      "11/11 [==============================] - 0s 10ms/step - loss: 0.0054 - val_loss: 0.0022\n",
      "Epoch 9/25\n",
      "11/11 [==============================] - 0s 10ms/step - loss: 0.0030 - val_loss: 0.0019\n",
      "Epoch 10/25\n",
      "11/11 [==============================] - 0s 9ms/step - loss: 0.0034 - val_loss: 0.0019\n",
      "Epoch 11/25\n",
      "11/11 [==============================] - 0s 11ms/step - loss: 0.0030 - val_loss: 0.0019\n",
      "Epoch 12/25\n",
      "11/11 [==============================] - 0s 12ms/step - loss: 0.0038 - val_loss: 0.0020\n",
      "Epoch 13/25\n",
      "11/11 [==============================] - 0s 12ms/step - loss: 0.0040 - val_loss: 0.0018\n",
      "Epoch 14/25\n",
      "11/11 [==============================] - 0s 12ms/step - loss: 0.0047 - val_loss: 0.0019\n",
      "Epoch 15/25\n",
      "11/11 [==============================] - 0s 11ms/step - loss: 0.0031 - val_loss: 0.0020\n",
      "Epoch 16/25\n",
      "11/11 [==============================] - 0s 12ms/step - loss: 0.0036 - val_loss: 0.0019\n",
      "Epoch 17/25\n",
      "11/11 [==============================] - 0s 10ms/step - loss: 0.0037 - val_loss: 0.0023\n",
      "Epoch 18/25\n",
      "11/11 [==============================] - 0s 12ms/step - loss: 0.0032 - val_loss: 0.0018\n",
      "Epoch 19/25\n",
      "11/11 [==============================] - 0s 12ms/step - loss: 0.0027 - val_loss: 0.0017\n",
      "Epoch 20/25\n",
      "11/11 [==============================] - 0s 10ms/step - loss: 0.0025 - val_loss: 0.0016\n",
      "Epoch 21/25\n",
      "11/11 [==============================] - 0s 11ms/step - loss: 0.0023 - val_loss: 0.0017\n",
      "Epoch 22/25\n",
      "11/11 [==============================] - 0s 9ms/step - loss: 0.0041 - val_loss: 0.0017\n",
      "Epoch 23/25\n",
      "11/11 [==============================] - 0s 10ms/step - loss: 0.0027 - val_loss: 0.0018\n",
      "Epoch 24/25\n",
      "11/11 [==============================] - 0s 10ms/step - loss: 0.0035 - val_loss: 0.0018\n",
      "Epoch 25/25\n",
      "11/11 [==============================] - 0s 12ms/step - loss: 0.0041 - val_loss: 0.0018\n",
      "<class 'keras.engine.sequential.Sequential'>\n",
      "<class 'keras.callbacks.History'>\n",
      "<class 'dict'>\n"
     ]
    }
   ],
   "source": [
    "model = build_lstm_model(X_train, output_size=1, neurons=lstm_neurons, dropout=dropout, loss=loss,optimizer=optimizer)\n",
    "history = model.fit(X_train, y_train, validation_data=(X_test, y_test), epochs=epochs, batch_size=batch_size, verbose=1, shuffle=True)\n",
    "print(type(model))\n",
    "print(type(history))\n",
    "print(type(history.history))"
   ]
  },
  {
   "cell_type": "code",
   "execution_count": 40,
   "metadata": {},
   "outputs": [
    {
     "name": "stdout",
     "output_type": "stream",
     "text": [
      "<keras.callbacks.History object at 0x0000017ACB6B3BB0>\n"
     ]
    }
   ],
   "source": [
    "print(history)"
   ]
  },
  {
   "cell_type": "code",
   "execution_count": 35,
   "metadata": {},
   "outputs": [
    {
     "data": {
      "image/png": "[encoded data removed]",
      "text/plain": [
       "<Figure size 432x288 with 1 Axes>"
      ]
     },
     "metadata": {
      "needs_background": "light"
     },
     "output_type": "display_data"
    }
   ],
   "source": [
    "import matplotlib.pyplot as plt\n",
    "plt.plot(history.history['loss'],'r',linewidth=2, label='Train loss')\n",
    "plt.plot(history.history['val_loss'], 'g',linewidth=2, label='Validation loss')\n",
    "plt.title('LSTM')\n",
    "plt.xlabel('Epochs')\n",
    "plt.ylabel('MSE')\n",
    "plt.show()"
   ]
  },
  {
   "cell_type": "code",
   "execution_count": 43,
   "metadata": {},
   "outputs": [
    {
     "name": "stdout",
     "output_type": "stream",
     "text": [
      "<class 'pandas.core.series.Series'>\n",
      "<class 'numpy.ndarray'>\n"
     ]
    },
    {
     "data": {
      "text/plain": [
       "0.030743581108972236"
      ]
     },
     "execution_count": 43,
     "metadata": {},
     "output_type": "execute_result"
    }
   ],
   "source": [
    "targets = test[target_col][window_len:]\n",
    "preds = model.predict(X_test).squeeze()\n",
    "mean_absolute_error(preds, y_test)\n",
    "print(type(targets))\n",
    "print(type(preds))\n",
    "mean_absolute_error(preds, y_test)"
   ]
  },
  {
   "cell_type": "code",
   "execution_count": 44,
   "metadata": {},
   "outputs": [
    {
     "data": {
      "text/plain": [
       "0.0017799248907505625"
      ]
     },
     "execution_count": 44,
     "metadata": {},
     "output_type": "execute_result"
    }
   ],
   "source": [
    "from sklearn.metrics import mean_squared_error\n",
    "MAE=mean_squared_error(preds, y_test)\n",
    "MAE"
   ]
  },
  {
   "cell_type": "code",
   "execution_count": 45,
   "metadata": {},
   "outputs": [
    {
     "data": {
      "text/plain": [
       "0.6697532457688249"
      ]
     },
     "execution_count": 45,
     "metadata": {},
     "output_type": "execute_result"
    }
   ],
   "source": [
    "from sklearn.metrics import r2_score\n",
    "R2=r2_score(y_test, preds)\n",
    "R2"
   ]
  },
  {
   "cell_type": "code",
   "execution_count": 46,
   "metadata": {},
   "outputs": [
    {
     "data": {
      "image/png": "[encoded data removed]",
      "text/plain": [
       "<Figure size 936x504 with 1 Axes>"
      ]
     },
     "metadata": {
      "needs_background": "light"
     },
     "output_type": "display_data"
    }
   ],
   "source": [
    "preds = test[target_col].values[:-window_len] * (preds + 1)\n",
    "preds = pd.Series(index=targets.index, data=preds)\n",
    "line_plot(targets, preds, 'actual', 'prediction', lw=3)"
   ]
  },
  {
   "cell_type": "code",
   "execution_count": null,
   "metadata": {},
   "outputs": [],
   "source": []
  }
 ],
 "metadata": {
  "kernelspec": {
   "display_name": "Python 3",
   "language": "python",
   "name": "python3"
  },
  "language_info": {
   "codemirror_mode": {
    "name": "ipython",
    "version": 3
   },
   "file_extension": ".py",
   "mimetype": "text/x-python",
   "name": "python",
   "nbconvert_exporter": "python",
   "pygments_lexer": "ipython3",
   "version": "3.8.5"
  }
 },
 "nbformat": 4,
 "nbformat_minor": 4
}
