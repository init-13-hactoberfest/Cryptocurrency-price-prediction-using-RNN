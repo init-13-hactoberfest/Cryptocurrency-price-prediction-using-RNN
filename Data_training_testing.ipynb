{
 "cells": [
  {
   "cell_type": "code",
   "execution_count": 1,
   "metadata": {},
   "outputs": [
    {
     "name": "stdout",
     "output_type": "stream",
     "text": [
      "              unix                 date   symbol      open      high  \\\n",
      "0       1646106180  2022-03-01 03:43:00  BTC/USD  43046.58  43046.58   \n",
      "1       1646106060  2022-03-01 03:41:00  BTC/USD  43018.23  43046.59   \n",
      "2       1646106000  2022-03-01 03:40:00  BTC/USD  43022.24  43022.24   \n",
      "3       1646105940  2022-03-01 03:39:00  BTC/USD  43035.16  43035.16   \n",
      "4       1646105880  2022-03-01 03:38:00  BTC/USD  43077.82  43077.82   \n",
      "...            ...                  ...      ...       ...       ...   \n",
      "610777  1609459500  2021-01-01 00:05:00  BTC/USD  29021.86  29023.38   \n",
      "610778  1609459440  2021-01-01 00:04:00  BTC/USD  29048.13  29057.73   \n",
      "610779  1609459380  2021-01-01 00:03:00  BTC/USD  29037.68  29069.39   \n",
      "610780  1609459320  2021-01-01 00:02:00  BTC/USD  29069.80  29073.02   \n",
      "610781  1609459260  2021-01-01 00:01:00  BTC/USD  29007.31  29086.90   \n",
      "\n",
      "             low     close  Volume BTC     Volume USD  \n",
      "0       43046.58  43046.58    0.000000       0.000000  \n",
      "1       43018.23  43046.58    0.142977    6154.673021  \n",
      "2       43016.03  43016.03    0.009230     397.037957  \n",
      "3       42999.44  42999.44    0.820950   35300.390268  \n",
      "4       43049.46  43049.46    0.022210     956.143143  \n",
      "...          ...       ...         ...            ...  \n",
      "610777  28982.33  28999.50    1.062360   30807.899250  \n",
      "610778  29035.61  29045.19    1.446538   42014.959434  \n",
      "610779  29019.00  29048.13    2.189621   63604.382387  \n",
      "610780  29028.14  29035.89    3.030301   87987.499279  \n",
      "610781  29007.31  29083.47   14.561951  423512.060397  \n",
      "\n",
      "[610782 rows x 9 columns]\n"
     ]
    }
   ],
   "source": [
    "import numpy as np\n",
    "import matplotlib.pyplot as plt\n",
    "import pandas as pd\n",
    "from sklearn.preprocessing import MinMaxScaler\n",
    "data = pd.read_csv('C:/Users/Debian_Boy/OneDrive/Desktop/BTC_data/BTC-2021min.csv', date_parser = True)\n",
    "print(data)\n"
   ]
  },
  {
   "cell_type": "code",
   "execution_count": 2,
   "metadata": {},
   "outputs": [
    {
     "data": {
      "text/html": [
       "<div>\n",
       "<style scoped>\n",
       "    .dataframe tbody tr th:only-of-type {\n",
       "        vertical-align: middle;\n",
       "    }\n",
       "\n",
       "    .dataframe tbody tr th {\n",
       "        vertical-align: top;\n",
       "    }\n",
       "\n",
       "    .dataframe thead th {\n",
       "        text-align: right;\n",
       "    }\n",
       "</style>\n",
       "<table border=\"1\" class=\"dataframe\">\n",
       "  <thead>\n",
       "    <tr style=\"text-align: right;\">\n",
       "      <th></th>\n",
       "      <th>unix</th>\n",
       "      <th>date</th>\n",
       "      <th>symbol</th>\n",
       "      <th>open</th>\n",
       "      <th>high</th>\n",
       "      <th>low</th>\n",
       "      <th>close</th>\n",
       "      <th>Volume BTC</th>\n",
       "      <th>Volume USD</th>\n",
       "    </tr>\n",
       "  </thead>\n",
       "  <tbody>\n",
       "    <tr>\n",
       "      <th>610777</th>\n",
       "      <td>1609459500</td>\n",
       "      <td>2021-01-01 00:05:00</td>\n",
       "      <td>BTC/USD</td>\n",
       "      <td>29021.86</td>\n",
       "      <td>29023.38</td>\n",
       "      <td>28982.33</td>\n",
       "      <td>28999.50</td>\n",
       "      <td>1.062360</td>\n",
       "      <td>30807.899250</td>\n",
       "    </tr>\n",
       "    <tr>\n",
       "      <th>610778</th>\n",
       "      <td>1609459440</td>\n",
       "      <td>2021-01-01 00:04:00</td>\n",
       "      <td>BTC/USD</td>\n",
       "      <td>29048.13</td>\n",
       "      <td>29057.73</td>\n",
       "      <td>29035.61</td>\n",
       "      <td>29045.19</td>\n",
       "      <td>1.446538</td>\n",
       "      <td>42014.959434</td>\n",
       "    </tr>\n",
       "    <tr>\n",
       "      <th>610779</th>\n",
       "      <td>1609459380</td>\n",
       "      <td>2021-01-01 00:03:00</td>\n",
       "      <td>BTC/USD</td>\n",
       "      <td>29037.68</td>\n",
       "      <td>29069.39</td>\n",
       "      <td>29019.00</td>\n",
       "      <td>29048.13</td>\n",
       "      <td>2.189621</td>\n",
       "      <td>63604.382387</td>\n",
       "    </tr>\n",
       "    <tr>\n",
       "      <th>610780</th>\n",
       "      <td>1609459320</td>\n",
       "      <td>2021-01-01 00:02:00</td>\n",
       "      <td>BTC/USD</td>\n",
       "      <td>29069.80</td>\n",
       "      <td>29073.02</td>\n",
       "      <td>29028.14</td>\n",
       "      <td>29035.89</td>\n",
       "      <td>3.030301</td>\n",
       "      <td>87987.499279</td>\n",
       "    </tr>\n",
       "    <tr>\n",
       "      <th>610781</th>\n",
       "      <td>1609459260</td>\n",
       "      <td>2021-01-01 00:01:00</td>\n",
       "      <td>BTC/USD</td>\n",
       "      <td>29007.31</td>\n",
       "      <td>29086.90</td>\n",
       "      <td>29007.31</td>\n",
       "      <td>29083.47</td>\n",
       "      <td>14.561951</td>\n",
       "      <td>423512.060397</td>\n",
       "    </tr>\n",
       "  </tbody>\n",
       "</table>\n",
       "</div>"
      ],
      "text/plain": [
       "              unix                 date   symbol      open      high  \\\n",
       "610777  1609459500  2021-01-01 00:05:00  BTC/USD  29021.86  29023.38   \n",
       "610778  1609459440  2021-01-01 00:04:00  BTC/USD  29048.13  29057.73   \n",
       "610779  1609459380  2021-01-01 00:03:00  BTC/USD  29037.68  29069.39   \n",
       "610780  1609459320  2021-01-01 00:02:00  BTC/USD  29069.80  29073.02   \n",
       "610781  1609459260  2021-01-01 00:01:00  BTC/USD  29007.31  29086.90   \n",
       "\n",
       "             low     close  Volume BTC     Volume USD  \n",
       "610777  28982.33  28999.50    1.062360   30807.899250  \n",
       "610778  29035.61  29045.19    1.446538   42014.959434  \n",
       "610779  29019.00  29048.13    2.189621   63604.382387  \n",
       "610780  29028.14  29035.89    3.030301   87987.499279  \n",
       "610781  29007.31  29083.47   14.561951  423512.060397  "
      ]
     },
     "execution_count": 2,
     "metadata": {},
     "output_type": "execute_result"
    }
   ],
   "source": [
    "data.tail()\n",
    "#print(data)\n",
    "#data training\n",
    "#data_training = data[data['date']< '2022-02-22 05:02:00'].copy()\n",
    "#print(data_training)"
   ]
  },
  {
   "cell_type": "code",
   "execution_count": 3,
   "metadata": {},
   "outputs": [
    {
     "name": "stdout",
     "output_type": "stream",
     "text": [
      "              unix                 date   symbol      open      high  \\\n",
      "10001   1645506060  2022-02-22 05:01:00  BTC/USD  36676.28  36676.28   \n",
      "10002   1645506000  2022-02-22 05:00:00  BTC/USD  36646.81  36686.82   \n",
      "10003   1645505940  2022-02-22 04:59:00  BTC/USD  36628.40  36642.71   \n",
      "10004   1645505880  2022-02-22 04:58:00  BTC/USD  36615.01  36649.31   \n",
      "10005   1645505820  2022-02-22 04:57:00  BTC/USD  36653.02  36653.02   \n",
      "...            ...                  ...      ...       ...       ...   \n",
      "610777  1609459500  2021-01-01 00:05:00  BTC/USD  29021.86  29023.38   \n",
      "610778  1609459440  2021-01-01 00:04:00  BTC/USD  29048.13  29057.73   \n",
      "610779  1609459380  2021-01-01 00:03:00  BTC/USD  29037.68  29069.39   \n",
      "610780  1609459320  2021-01-01 00:02:00  BTC/USD  29069.80  29073.02   \n",
      "610781  1609459260  2021-01-01 00:01:00  BTC/USD  29007.31  29086.90   \n",
      "\n",
      "             low     close  Volume BTC     Volume USD  \n",
      "10001   36669.51  36671.91    0.185255    6793.654320  \n",
      "10002   36646.81  36686.82    1.022307   37505.202065  \n",
      "10003   36628.40  36642.70    0.024410     894.448307  \n",
      "10004   36615.01  36630.20    0.243634    8924.360315  \n",
      "10005   36611.81  36627.00    0.339535   12436.162363  \n",
      "...          ...       ...         ...            ...  \n",
      "610777  28982.33  28999.50    1.062360   30807.899250  \n",
      "610778  29035.61  29045.19    1.446538   42014.959434  \n",
      "610779  29019.00  29048.13    2.189621   63604.382387  \n",
      "610780  29028.14  29035.89    3.030301   87987.499279  \n",
      "610781  29007.31  29083.47   14.561951  423512.060397  \n",
      "\n",
      "[600781 rows x 9 columns]\n"
     ]
    }
   ],
   "source": [
    "#print(data)\n",
    "#data training\n",
    "data_training = data[data['date']< '2022-02-22 05:02:00'].copy()\n",
    "print(data_training)"
   ]
  },
  {
   "cell_type": "code",
   "execution_count": 4,
   "metadata": {},
   "outputs": [
    {
     "name": "stdout",
     "output_type": "stream",
     "text": [
      "            unix                 date   symbol      open      high       low  \\\n",
      "0     1646106180  2022-03-01 03:43:00  BTC/USD  43046.58  43046.58  43046.58   \n",
      "1     1646106060  2022-03-01 03:41:00  BTC/USD  43018.23  43046.59  43018.23   \n",
      "2     1646106000  2022-03-01 03:40:00  BTC/USD  43022.24  43022.24  43016.03   \n",
      "3     1646105940  2022-03-01 03:39:00  BTC/USD  43035.16  43035.16  42999.44   \n",
      "4     1646105880  2022-03-01 03:38:00  BTC/USD  43077.82  43077.82  43049.46   \n",
      "...          ...                  ...      ...       ...       ...       ...   \n",
      "9995  1645506420  2022-02-22 05:07:00  BTC/USD  36653.99  36706.29  36649.03   \n",
      "9996  1645506360  2022-02-22 05:06:00  BTC/USD  36699.96  36700.00  36648.15   \n",
      "9997  1645506300  2022-02-22 05:05:00  BTC/USD  36687.82  36702.32  36687.82   \n",
      "9998  1645506240  2022-02-22 05:04:00  BTC/USD  36674.12  36685.39  36662.61   \n",
      "9999  1645506180  2022-02-22 05:03:00  BTC/USD  36636.00  36636.00  36630.79   \n",
      "\n",
      "         close  Volume BTC     Volume USD  \n",
      "0     43046.58    0.000000       0.000000  \n",
      "1     43046.58    0.142977    6154.673021  \n",
      "2     43016.03    0.009230     397.037957  \n",
      "3     42999.44    0.820950   35300.390268  \n",
      "4     43049.46    0.022210     956.143143  \n",
      "...        ...         ...            ...  \n",
      "9995  36701.57    4.659525  171011.898369  \n",
      "9996  36675.41    0.122481    4492.023655  \n",
      "9997  36701.42    0.004909     180.169473  \n",
      "9998  36685.39    0.055069    2020.225908  \n",
      "9999  36630.79    0.073858    2705.494837  \n",
      "\n",
      "[10000 rows x 9 columns]\n"
     ]
    }
   ],
   "source": [
    "data_test = data[data['date']> '2022-02-22 05:02:00'].copy()\n",
    "print(data_test)"
   ]
  },
  {
   "cell_type": "code",
   "execution_count": 5,
   "metadata": {},
   "outputs": [
    {
     "data": {
      "text/html": [
       "<div>\n",
       "<style scoped>\n",
       "    .dataframe tbody tr th:only-of-type {\n",
       "        vertical-align: middle;\n",
       "    }\n",
       "\n",
       "    .dataframe tbody tr th {\n",
       "        vertical-align: top;\n",
       "    }\n",
       "\n",
       "    .dataframe thead th {\n",
       "        text-align: right;\n",
       "    }\n",
       "</style>\n",
       "<table border=\"1\" class=\"dataframe\">\n",
       "  <thead>\n",
       "    <tr style=\"text-align: right;\">\n",
       "      <th></th>\n",
       "      <th>open</th>\n",
       "      <th>high</th>\n",
       "      <th>low</th>\n",
       "      <th>close</th>\n",
       "      <th>Volume USD</th>\n",
       "    </tr>\n",
       "  </thead>\n",
       "  <tbody>\n",
       "    <tr>\n",
       "      <th>10001</th>\n",
       "      <td>36676.28</td>\n",
       "      <td>36676.28</td>\n",
       "      <td>36669.51</td>\n",
       "      <td>36671.91</td>\n",
       "      <td>6793.654320</td>\n",
       "    </tr>\n",
       "    <tr>\n",
       "      <th>10002</th>\n",
       "      <td>36646.81</td>\n",
       "      <td>36686.82</td>\n",
       "      <td>36646.81</td>\n",
       "      <td>36686.82</td>\n",
       "      <td>37505.202065</td>\n",
       "    </tr>\n",
       "    <tr>\n",
       "      <th>10003</th>\n",
       "      <td>36628.40</td>\n",
       "      <td>36642.71</td>\n",
       "      <td>36628.40</td>\n",
       "      <td>36642.70</td>\n",
       "      <td>894.448307</td>\n",
       "    </tr>\n",
       "    <tr>\n",
       "      <th>10004</th>\n",
       "      <td>36615.01</td>\n",
       "      <td>36649.31</td>\n",
       "      <td>36615.01</td>\n",
       "      <td>36630.20</td>\n",
       "      <td>8924.360315</td>\n",
       "    </tr>\n",
       "    <tr>\n",
       "      <th>10005</th>\n",
       "      <td>36653.02</td>\n",
       "      <td>36653.02</td>\n",
       "      <td>36611.81</td>\n",
       "      <td>36627.00</td>\n",
       "      <td>12436.162363</td>\n",
       "    </tr>\n",
       "  </tbody>\n",
       "</table>\n",
       "</div>"
      ],
      "text/plain": [
       "           open      high       low     close    Volume USD\n",
       "10001  36676.28  36676.28  36669.51  36671.91   6793.654320\n",
       "10002  36646.81  36686.82  36646.81  36686.82  37505.202065\n",
       "10003  36628.40  36642.71  36628.40  36642.70    894.448307\n",
       "10004  36615.01  36649.31  36615.01  36630.20   8924.360315\n",
       "10005  36653.02  36653.02  36611.81  36627.00  12436.162363"
      ]
     },
     "execution_count": 5,
     "metadata": {},
     "output_type": "execute_result"
    }
   ],
   "source": [
    "training_data = data_training.drop(['date', 'symbol','unix','Volume BTC'], axis = 1)\n",
    "training_data.head()"
   ]
  },
  {
   "cell_type": "code",
   "execution_count": 7,
   "metadata": {},
   "outputs": [
    {
     "name": "stdout",
     "output_type": "stream",
     "text": [
      "[[2.09808589e-01 2.03897890e-01 2.17589056e-01 2.10103020e-01\n",
      "  4.86375413e-04]\n",
      " [2.09088160e-01 2.04157480e-01 2.17036287e-01 2.10467328e-01\n",
      "  2.68509513e-03]\n",
      " [2.08638106e-01 2.03071093e-01 2.16587984e-01 2.09389310e-01\n",
      "  6.40358847e-05]\n",
      " ...\n",
      " [2.30740140e-02 1.65475114e-02 3.12911000e-02 2.38253650e-02\n",
      "  4.55360345e-03]\n",
      " [2.38592252e-02 1.66369148e-02 3.15136686e-02 2.35262957e-02\n",
      "  6.29925432e-03]\n",
      " [2.23315836e-02 1.69787658e-02 3.10064362e-02 2.46888543e-02\n",
      "  3.03203318e-02]]\n"
     ]
    }
   ],
   "source": [
    "#MinMaxScaler is used to normalize the data\n",
    "scaler = MinMaxScaler()\n",
    "training_data = scaler.fit_transform(training_data)\n",
    "print(training_data)\n",
    "#training_data\n"
   ]
  },
  {
   "cell_type": "code",
   "execution_count": 8,
   "metadata": {},
   "outputs": [
    {
     "data": {
      "text/plain": [
       "600781"
      ]
     },
     "execution_count": 8,
     "metadata": {},
     "output_type": "execute_result"
    }
   ],
   "source": [
    "X_train = [] \n",
    "Y_train = []\n",
    "training_data.shape[0]"
   ]
  },
  {
   "cell_type": "code",
   "execution_count": null,
   "metadata": {},
   "outputs": [],
   "source": [
    "for i in range(10001, training_data.shape[0]):\n",
    "    X_train=np.append(X_train,training_data[i-10001:i])\n",
    "    Y_train=np.append(Y_train,training_data[i,0])\n",
    "X_train, Y_train = np.array(X_train), np.array(Y_train)\n",
    "X_train.shape"
   ]
  },
  {
   "cell_type": "code",
   "execution_count": null,
   "metadata": {},
   "outputs": [],
   "source": []
  },
  {
   "cell_type": "code",
   "execution_count": null,
   "metadata": {},
   "outputs": [],
   "source": []
  }
 ],
 "metadata": {
  "kernelspec": {
   "display_name": "Python 3",
   "language": "python",
   "name": "python3"
  },
  "language_info": {
   "codemirror_mode": {
    "name": "ipython",
    "version": 3
   },
   "file_extension": ".py",
   "mimetype": "text/x-python",
   "name": "python",
   "nbconvert_exporter": "python",
   "pygments_lexer": "ipython3",
   "version": "3.8.5"
  }
 },
 "nbformat": 4,
 "nbformat_minor": 4
}
