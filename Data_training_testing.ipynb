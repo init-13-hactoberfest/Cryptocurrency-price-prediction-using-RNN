{
 "cells": [
  {
   "cell_type": "code",
   "execution_count": 1,
   "metadata": {},
   "outputs": [],
   "source": [
    "# importing libraries\n",
    "import numpy as np\n",
    "import pandas as pd\n",
    "from sklearn.preprocessing import MinMaxScaler\n",
    "import matplotlib.pyplot as plt\n",
    "from keras.models import Sequential\n",
    "from keras.layers import Dense\n",
    "from keras.layers import LSTM\n",
    "from keras.layers import Dropout\n",
    "import tensorflow as tf"
   ]
  },
  {
   "cell_type": "code",
   "execution_count": 2,
   "metadata": {},
   "outputs": [
    {
     "name": "stdout",
     "output_type": "stream",
     "text": [
      "[[  430.721008]\n",
      " [  434.622009]\n",
      " [  433.578003]\n",
      " ...\n",
      " [27081.81055 ]\n",
      " [27360.08984 ]\n",
      " [28841.57422 ]]\n"
     ]
    }
   ],
   "source": [
    "#--------------------- Data Preprocessing --------------------#\n",
    "# Importing and scaling the data\n",
    "dataset_train = pd.read_csv(\"C:/Users/Debian_Boy/OneDrive/Desktop/bitcoin_data/Bitcoin_Stock_Price_Trainset.csv\")\n",
    "#selecting the right column (we need all rows and column 1) : numpy array\n",
    "training_set = dataset_train.iloc[:,1:2].values\n",
    "print(training_set)"
   ]
  },
  {
   "cell_type": "code",
   "execution_count": 3,
   "metadata": {},
   "outputs": [],
   "source": [
    "# Feature scaling\n",
    "sc = MinMaxScaler(feature_range=(0,1))\n",
    "training_set_scaled = sc.fit_transform(training_set)\n",
    "#print(training_set_scaled[0,:])\n"
   ]
  },
  {
   "cell_type": "code",
   "execution_count": 4,
   "metadata": {},
   "outputs": [],
   "source": [
    "#creating a data structure with 60 timesteps and 1 output\n",
    "X_train = []\n",
    "y_train = []"
   ]
  },
  {
   "cell_type": "code",
   "execution_count": 5,
   "metadata": {},
   "outputs": [
    {
     "name": "stdout",
     "output_type": "stream",
     "text": [
      "[[0.00230534 0.00244233 0.00240567 ... 0.91007491 0.93820295 0.9479752 ]]\n"
     ]
    }
   ],
   "source": [
    "for i in range(90,training_set_scaled.size):\n",
    "    # appending the 60 previous stock prices to the list for i\n",
    "    # we need to specify the rows and simply pick the first and only column\n",
    "    X_train = np.append(X_train,training_set_scaled[i-90:i, 0])\n",
    "    # appending the 60th stock price to the list for i\n",
    "    y_train = np.append(y_train,training_set_scaled[i, 0])\n",
    "# transforming pandas lists to numpy arrays required for the RNN\n",
    "X_train, y_train = np.array(X_train,ndmin = 2), np.array(y_train)\n",
    "print(X_train)"
   ]
  },
  {
   "cell_type": "code",
   "execution_count": 6,
   "metadata": {},
   "outputs": [
    {
     "name": "stdout",
     "output_type": "stream",
     "text": [
      "[[[0.00230534]\n",
      "  [0.00244233]\n",
      "  [0.00240567]\n",
      "  ...\n",
      "  [0.91007491]\n",
      "  [0.93820295]\n",
      "  [0.9479752 ]]]\n"
     ]
    }
   ],
   "source": [
    "# Shaping/adding new dimensions to allow adding more indicators: from 2D to 3D\n",
    "# 3 input arguments\n",
    "# batch_size: number of observations\n",
    "# timesteps: number of columns\n",
    "# input_dim: number of predictors\n",
    "X_train = np.reshape(X_train, [X_train.shape[0], X_train.shape[1], 1])\n",
    "#X_train.shape[0]\n",
    "#X_train.shape[1]\n",
    "print(X_train)\n"
   ]
  },
  {
   "cell_type": "code",
   "execution_count": 7,
   "metadata": {},
   "outputs": [
    {
     "name": "stdout",
     "output_type": "stream",
     "text": [
      "155970\n"
     ]
    }
   ],
   "source": [
    "#--------------------- Building RNN/LSTM model --------------------#\n",
    "#Initializing the RNN\n",
    "\n",
    "# independent variable is a sequence of layers: regression and no classification given the continuous output value\n",
    "regressor = Sequential()\n",
    "#------------------------------------------------------------------#\n",
    "# Adding the first LSTM layer\n",
    "#------------------------------------------------------------------#\n",
    "# 3 inputs\n",
    "# number of memory/LSTM units or neurons in each LSTM\n",
    "# binary vb to indicate whether there will be further layers of LSTM added to teh model\n",
    "# input shape (automatically takes teh first dimension so the reamining only needs to be specified)\n",
    "print(X_train.shape[1])\n",
    "regressor.add(LSTM(units = 50, return_sequences=True, input_shape = (X_train.shape[1], 1)))\n",
    "\n",
    "# adding Dropout regularization layers\n",
    "# 1 input: amount of neurons to ignore in the layers\n",
    "regressor.add(Dropout(0.2))"
   ]
  },
  {
   "cell_type": "code",
   "execution_count": null,
   "metadata": {},
   "outputs": [],
   "source": []
  }
 ],
 "metadata": {
  "kernelspec": {
   "display_name": "Python 3",
   "language": "python",
   "name": "python3"
  },
  "language_info": {
   "codemirror_mode": {
    "name": "ipython",
    "version": 3
   },
   "file_extension": ".py",
   "mimetype": "text/x-python",
   "name": "python",
   "nbconvert_exporter": "python",
   "pygments_lexer": "ipython3",
   "version": "3.8.5"
  }
 },
 "nbformat": 4,
 "nbformat_minor": 4
}
